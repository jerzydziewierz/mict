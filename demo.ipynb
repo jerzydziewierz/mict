{
 "cells": [
  {
   "cell_type": "code",
   "execution_count": null,
   "id": "serial-party",
   "metadata": {},
   "outputs": [],
   "source": []
  },
  {
   "cell_type": "markdown",
   "id": "accomplished-impact",
   "metadata": {},
   "source": [
    "# `Mict` -- middle-ground between `dict` and a `class`\n",
    "\n",
    "Provides `MATLAB`-like setting/storage of items in a dict (dictionary) and a handful of interactivity tools.\n",
    "\n",
    "`mict` is intended to be a middle ground between `dict` and full fledged `class` / `object` pattern for structured data storage.\n",
    "\n",
    "It does a bit more than basic `dict`, but does not attempt to superseede pandas, numpy nor other advanced data storage tools\n",
    "\n"
   ]
  },
  {
   "cell_type": "code",
   "execution_count": null,
   "id": "macro-plymouth",
   "metadata": {},
   "outputs": [],
   "source": [
    "## Installation\n",
    "\n",
    "try installing with `pip`, grabbing it straight from git:\n",
    "    \n",
    "```bash\n",
    "python -m pip install git+https://github.com/<username>/<repo_name>.git\n",
    "```"
   ]
  },
  {
   "cell_type": "markdown",
   "id": "delayed-instrument",
   "metadata": {},
   "source": [
    "## Basic usage"
   ]
  },
  {
   "cell_type": "code",
   "execution_count": 1,
   "id": "appointed-custody",
   "metadata": {},
   "outputs": [
    {
     "data": {
      "text/html": [
       "<br/><table><tr><th>key</th><th>value</th></tr><tr><td>first</td> <td> Hello world!</td> </tr>  </table>"
      ],
      "text/plain": [
       "{'reprstyler_html': <function reprstyler_basic_html at 0x0000020D02167310>, 'first': 'Hello world!'}"
      ]
     },
     "execution_count": 1,
     "metadata": {},
     "output_type": "execute_result"
    }
   ],
   "source": [
    "from mict import mict\n",
    "q=mict()\n",
    "q.first = 'Hello world!'\n",
    "q"
   ]
  },
  {
   "cell_type": "markdown",
   "id": "english-medicare",
   "metadata": {},
   "source": [
    "---\n",
    "\n",
    "the key power of mict is the ease of adding, removing, altering the contents -- and the the nice visualisation of them.\n",
    "\n",
    "You can add new keys easily, and then access them using dot-notation:"
   ]
  },
  {
   "cell_type": "code",
   "execution_count": 2,
   "id": "respiratory-mounting",
   "metadata": {},
   "outputs": [
    {
     "data": {
      "text/html": [
       "<br/><table><tr><th>key</th><th>value</th></tr><tr><td>first</td> <td> Hello world!</td> </tr> <tr><td>second</td> <td> not</td> </tr> <tr><td>third</td> <td> 3</td> </tr>  </table>"
      ],
      "text/plain": [
       "{'reprstyler_html': <function reprstyler_basic_html at 0x0000020D02167310>, 'first': 'Hello world!', 'second': 'not', 'third': 3}"
      ]
     },
     "execution_count": 2,
     "metadata": {},
     "output_type": "execute_result"
    }
   ],
   "source": [
    "q.second = 'not'\n",
    "q.third = 3\n",
    "q"
   ]
  },
  {
   "cell_type": "markdown",
   "id": "inside-cloud",
   "metadata": {},
   "source": [
    "--- \n",
    "\n",
    "The visualiser function in `mict` is called `reprstyler`.\n",
    "\n",
    "A new `mict` instance comes with the `reprstyler_html` already set to `reprstyler_basic_html` but you can, and should make your own reprstylers.\n",
    "\n",
    "example reprstyler:"
   ]
  },
  {
   "cell_type": "markdown",
   "id": "mature-gnome",
   "metadata": {},
   "source": [
    "## Convinence save and load functions using pickle\n",
    "\n",
    "methods `to_pickle` and `from_pickle` work as you would expect:"
   ]
  },
  {
   "cell_type": "code",
   "execution_count": 3,
   "id": "uniform-polls",
   "metadata": {},
   "outputs": [
    {
     "data": {
      "text/plain": [
       "True"
      ]
     },
     "execution_count": 3,
     "metadata": {},
     "output_type": "execute_result"
    }
   ],
   "source": [
    "q.to_pickle('demo.pickle')"
   ]
  },
  {
   "cell_type": "code",
   "execution_count": 4,
   "id": "stupid-trick",
   "metadata": {},
   "outputs": [
    {
     "data": {
      "text/html": [
       "<br/><table><tr><th>key</th><th>value</th></tr><tr><td>first</td> <td> Hello world!</td> </tr> <tr><td>second</td> <td> not</td> </tr> <tr><td>third</td> <td> 3</td> </tr>  </table>"
      ],
      "text/plain": [
       "{'reprstyler_html': <function reprstyler_basic_html at 0x0000020D02167310>, 'first': 'Hello world!', 'second': 'not', 'third': 3}"
      ]
     },
     "execution_count": 4,
     "metadata": {},
     "output_type": "execute_result"
    }
   ],
   "source": [
    "q=mict.from_pickle('demo.pickle')\n",
    "q"
   ]
  },
  {
   "cell_type": "markdown",
   "id": "generous-timber",
   "metadata": {},
   "source": [
    "## Customizing the reprstyler \n",
    "\n",
    "This is the real reason why I developed mict: I wanted to have a quick and simple way to customize how the contents of the dictionary are visualized.\n",
    "    "
   ]
  },
  {
   "cell_type": "code",
   "execution_count": 12,
   "id": "dramatic-secret",
   "metadata": {},
   "outputs": [
    {
     "data": {
      "text/html": [
       "baldness score: 6.280"
      ],
      "text/plain": [
       "baldness score: 6.280"
      ]
     },
     "execution_count": 12,
     "metadata": {},
     "output_type": "execute_result"
    }
   ],
   "source": [
    "from mict import mict\n",
    "def baldstyler(subject):\n",
    "    return f'baldness score: {subject.bald:0.3f}'\n",
    "\n",
    "q=mict(zap=None,bald=6.28,hidden_value1=45,reprstyler_html=None,reprstyler=baldstyler)\n",
    "\n",
    "q"
   ]
  },
  {
   "cell_type": "markdown",
   "id": "anticipated-bench",
   "metadata": {},
   "source": [
    "---\n",
    "\n",
    "As everything in `mict`, the reprstyler can be changed **after** initializing the `mict` storage itself"
   ]
  },
  {
   "cell_type": "code",
   "execution_count": 13,
   "id": "surprised-bouquet",
   "metadata": {},
   "outputs": [
    {
     "data": {
      "text/html": [
       "keys:   zap =None; bald =6.28; hidden_value1 =45;"
      ],
      "text/plain": [
       "keys:   zap =None; bald =6.28; hidden_value1 =45;"
      ]
     },
     "execution_count": 13,
     "metadata": {},
     "output_type": "execute_result"
    }
   ],
   "source": [
    "def new_reprstyler(subject=None):\n",
    "    txt = 'keys:  '\n",
    "    for key in subject.keys():\n",
    "        if key == 'reprstyler' or key == 'reprstyler_html':  # do not list reprstyler\n",
    "            continue\n",
    "        txt = f\"{txt} {key} ={subject[key]};\"\n",
    "    return txt\n",
    "\n",
    "q.reprstyler = new_reprstyler\n",
    "q"
   ]
  },
  {
   "cell_type": "markdown",
   "id": "ideal-newspaper",
   "metadata": {},
   "source": [
    "then, if you want a different styler for jupyter, and a different one for text-only, you can (optionally) override the `reprstyler` with `reprstyler_html`. It will only be used if `_repr_html_` is called -- as `jupyter` first tries to call that first\n"
   ]
  },
  {
   "cell_type": "code",
   "execution_count": 14,
   "id": "developmental-vermont",
   "metadata": {},
   "outputs": [
    {
     "data": {
      "text/html": [
       "<h4>✅baldness score: 6.280</h4>"
      ],
      "text/plain": [
       "keys:   zap =None; bald =6.28; hidden_value1 =45;"
      ]
     },
     "execution_count": 14,
     "metadata": {},
     "output_type": "execute_result"
    }
   ],
   "source": [
    "def baldstyler_html(subject):\n",
    "    return f'<h4>✅baldness score: {subject.bald:0.3f}</h4>' if subject.bald>5 else f'<h4>❌not bald enough: {subject.bald:0.3f}</h4>'\n",
    "q.reprstyler_html = baldstyler_html\n",
    "q"
   ]
  },
  {
   "cell_type": "code",
   "execution_count": 15,
   "id": "changing-partner",
   "metadata": {},
   "outputs": [
    {
     "data": {
      "text/html": [
       "<h4>❌not bald enough: 3.000</h4>"
      ],
      "text/plain": [
       "keys:   zap =None; bald =3; hidden_value1 =45;"
      ]
     },
     "execution_count": 15,
     "metadata": {},
     "output_type": "execute_result"
    }
   ],
   "source": [
    "q.bald = 3\n",
    "q"
   ]
  },
  {
   "cell_type": "markdown",
   "id": "israeli-excitement",
   "metadata": {},
   "source": [
    "## An even quicker way to make a reprstyler\n",
    "\n",
    "You can use `lambda` anonymous function definition to make a reprstyler quickly.\n",
    "\n",
    "Note that reprstyler_html will display any html you give it, including images, videos, sound or javascript inserts"
   ]
  },
  {
   "cell_type": "code",
   "execution_count": 16,
   "id": "provincial-philip",
   "metadata": {},
   "outputs": [
    {
     "data": {
      "text/html": [
       "<svg height=\"100\" width=\"100\"><circle cx=\"50\" cy=\"50\" r=\"15\" stroke=\"black\" stroke-width=\"3\" fill=\"blue\" /></svg>"
      ],
      "text/plain": [
       "{'fill': 'blue', 'r': 15, 'reprstyler_html': <function <lambda> at 0x0000020D0218D040>}"
      ]
     },
     "execution_count": 16,
     "metadata": {},
     "output_type": "execute_result"
    }
   ],
   "source": [
    "q=mict(fill='blue',r=15)\n",
    "q.reprstyler_html= lambda this:f'<svg height=\"100\" width=\"100\"><circle cx=\"50\" cy=\"50\" r=\"{this.r}\" stroke=\"black\" stroke-width=\"3\" fill=\"{this.fill}\" /></svg>'\n",
    "q\n"
   ]
  },
  {
   "cell_type": "code",
   "execution_count": 17,
   "id": "separated-macintosh",
   "metadata": {},
   "outputs": [
    {
     "data": {
      "text/html": [
       "<svg height=\"100\" width=\"100\"><circle cx=\"50\" cy=\"50\" r=\"32\" stroke=\"black\" stroke-width=\"3\" fill=\"red\" /></svg>"
      ],
      "text/plain": [
       "{'fill': 'red', 'r': 32, 'reprstyler_html': <function <lambda> at 0x0000020D0218D040>}"
      ]
     },
     "execution_count": 17,
     "metadata": {},
     "output_type": "execute_result"
    }
   ],
   "source": [
    "q.r=32\n",
    "q.fill='red'\n",
    "q"
   ]
  },
  {
   "cell_type": "code",
   "execution_count": 27,
   "id": "chinese-texas",
   "metadata": {},
   "outputs": [],
   "source": [
    "## Remove the `reprstyler` and use the default `dict` styler.\n",
    "q.reprstyler_html=None\n",
    "try:\n",
    "    q.pop('reprstyler_html')\n",
    "except:\n",
    "    pass"
   ]
  },
  {
   "cell_type": "code",
   "execution_count": 28,
   "id": "supposed-winter",
   "metadata": {},
   "outputs": [
    {
     "data": {
      "text/html": [
       "{'fill': 'red', 'r': 32}"
      ],
      "text/plain": [
       "{'fill': 'red', 'r': 32}"
      ]
     },
     "execution_count": 28,
     "metadata": {},
     "output_type": "execute_result"
    }
   ],
   "source": [
    "q"
   ]
  },
  {
   "cell_type": "markdown",
   "id": "empirical-adoption",
   "metadata": {},
   "source": [
    "---\n",
    "\n",
    "## Note\n",
    "\n",
    "If you really feel like it, this could be extended to markdown, png, svg and other visualizers supported by jupyter.\n",
    "\n",
    "\n",
    "Importantly, you can still see the classic `dict` __repr__ function (lists all keys/values) using\n",
    "\n",
    "```python\n",
    "super(handybeam.dict,q).__repr__()\n",
    "```"
   ]
  },
  {
   "cell_type": "markdown",
   "id": "vocational-venezuela",
   "metadata": {},
   "source": [
    "# Advanced uses\n",
    "\n",
    "## Show shape of big variables, instead of it's content.\n",
    "\n",
    "many of the actual research code will use numpy arrays or long lists. These are typically unwieldy to just display.\n",
    "\n",
    "`mict` provides a way to only display the shape of the numpy/tensorflow/pytorch/jax array, instead of the contents. You will find that this is often what you need displayed."
   ]
  },
  {
   "cell_type": "code",
   "execution_count": null,
   "id": "twelve-prime",
   "metadata": {},
   "outputs": [],
   "source": [
    "from mict import reprstyler_basic_html\n",
    "import numpy\n",
    "q=mict(small_array=numpy.array([1,2,3,4,5]))\n",
    "q"
   ]
  },
  {
   "cell_type": "code",
   "execution_count": null,
   "id": "following-musical",
   "metadata": {},
   "outputs": [],
   "source": [
    "q.large_array=numpy.random.random((150,150))\n",
    "q.reprstyler_html = reprstyler_basic_html # optional set -- this is already a default\n",
    "q"
   ]
  },
  {
   "cell_type": "markdown",
   "id": "regulation-survey",
   "metadata": {},
   "source": [
    "# Advanced uses\n",
    "\n",
    "## Capture locals from inside the function and return them in a `dict` / `mict` \n",
    "\n",
    "When developing a research function, you will often want to capture **all** the locals inside it for debug purposes. \n",
    "\n",
    "Only when stabilizing the implementation, you will want to prune the result and leave usefull return values only."
   ]
  },
  {
   "cell_type": "code",
   "execution_count": null,
   "id": "facial-bouquet",
   "metadata": {},
   "outputs": [],
   "source": [
    " # define a function\n",
    "def do_maths(x=1,y=2):\n",
    "    a=x+y\n",
    "    b=a*x\n",
    "    c=b*y\n",
    "    result = mict.from_locals()  # puts `x`,`y`,`a`,`b`,`c` into `result`. \n",
    "    result.pop('b') # remove 'b' from the result\n",
    "    return result\n",
    "\n",
    "# execute that function\n",
    "demo_result = do_maths(x=4,y=2)\n",
    "\n",
    "# review function's locals\n",
    "demo_result"
   ]
  },
  {
   "cell_type": "markdown",
   "id": "appropriate-artwork",
   "metadata": {},
   "source": [
    "# Advanced uses\n",
    "\n",
    "## Nested dictionary use and special attributes\n",
    "\n",
    "note that `name` and `type` have a special meaning for the default visualizer, `reprstyler_basic_html`.\n",
    "\n",
    "Moreover, the `reprstyler_basic_html` will try to obtain html from inner (nested) `mict`s and display it in a table.\n",
    "\n",
    "Note that `reprstyler_basic_html` is merely another function from the `mict` module, and can be overridden with any other reprstyler. If `reprstyler_html` is set to `None`, the default `dict.__repr__()` is used."
   ]
  },
  {
   "cell_type": "code",
   "execution_count": 37,
   "id": "ceramic-watts",
   "metadata": {},
   "outputs": [],
   "source": [
    "x=mict(name='first',type='coordinate', value=3)\n",
    "y=mict(name='second', type='coordinate', value=5)\n",
    "point=mict(type='outer <b>mict</b>',x=x,y=y)"
   ]
  },
  {
   "cell_type": "code",
   "execution_count": 38,
   "id": "unlimited-massage",
   "metadata": {},
   "outputs": [
    {
     "data": {
      "text/html": [
       "<em>Type:</em> coordinate; <em>Name:</em> first; <br/><table><tr><th>key</th><th>value</th></tr><tr><td>value</td> <td> 3</td> </tr>  </table>"
      ],
      "text/plain": [
       "{'name': 'first', 'type': 'coordinate', 'value': 3, 'reprstyler_html': <function reprstyler_basic_html at 0x0000020D02167310>}"
      ]
     },
     "execution_count": 38,
     "metadata": {},
     "output_type": "execute_result"
    }
   ],
   "source": [
    "x"
   ]
  },
  {
   "cell_type": "code",
   "execution_count": 39,
   "id": "divided-blend",
   "metadata": {},
   "outputs": [
    {
     "data": {
      "text/html": [
       "<em>Type:</em> coordinate; <em>Name:</em> second; <br/><table><tr><th>key</th><th>value</th></tr><tr><td>value</td> <td> 5</td> </tr>  </table>"
      ],
      "text/plain": [
       "{'name': 'second', 'type': 'coordinate', 'value': 5, 'reprstyler_html': <function reprstyler_basic_html at 0x0000020D02167310>}"
      ]
     },
     "execution_count": 39,
     "metadata": {},
     "output_type": "execute_result"
    }
   ],
   "source": [
    "y"
   ]
  },
  {
   "cell_type": "code",
   "execution_count": 40,
   "id": "accepted-advancement",
   "metadata": {},
   "outputs": [
    {
     "data": {
      "text/html": [
       "<em>Type:</em> outer <b>mict</b>; <br/><table><tr><th>key</th><th>value</th></tr><tr><td>x</td><td><em>Type:</em> coordinate; <em>Name:</em> first; <br/><table><tr><th>key</th><th>value</th></tr><tr><td>value</td> <td> 3</td> </tr>  </table></td> </tr> <tr><td>y</td><td><em>Type:</em> coordinate; <em>Name:</em> second; <br/><table><tr><th>key</th><th>value</th></tr><tr><td>value</td> <td> 5</td> </tr>  </table></td> </tr>  </table>"
      ],
      "text/plain": [
       "{'type': 'outer <b>mict</b>', 'x': {'name': 'first', 'type': 'coordinate', 'value': 3, 'reprstyler_html': <function reprstyler_basic_html at 0x0000020D02167310>}, 'y': {'name': 'second', 'type': 'coordinate', 'value': 5, 'reprstyler_html': <function reprstyler_basic_html at 0x0000020D02167310>}, 'reprstyler_html': <function reprstyler_basic_html at 0x0000020D02167310>}"
      ]
     },
     "execution_count": 40,
     "metadata": {},
     "output_type": "execute_result"
    }
   ],
   "source": [
    "point"
   ]
  },
  {
   "cell_type": "code",
   "execution_count": 41,
   "id": "serial-fisher",
   "metadata": {},
   "outputs": [
    {
     "data": {
      "text/plain": [
       "'<em>Type:</em> outer <b>mict</b>; <br/><table><tr><th>key</th><th>value</th></tr><tr><td>x</td><td><em>Type:</em> coordinate; <em>Name:</em> first; <br/><table><tr><th>key</th><th>value</th></tr><tr><td>value</td> <td> 3</td> </tr>  </table></td> </tr> <tr><td>y</td><td><em>Type:</em> coordinate; <em>Name:</em> second; <br/><table><tr><th>key</th><th>value</th></tr><tr><td>value</td> <td> 5</td> </tr>  </table></td> </tr>  </table>'"
      ]
     },
     "execution_count": 41,
     "metadata": {},
     "output_type": "execute_result"
    }
   ],
   "source": [
    "v=point._repr_html_()\n",
    "v"
   ]
  },
  {
   "cell_type": "code",
   "execution_count": 42,
   "id": "narrow-stomach",
   "metadata": {},
   "outputs": [],
   "source": [
    "point.reprstyler_html=None"
   ]
  },
  {
   "cell_type": "code",
   "execution_count": 43,
   "id": "continuous-chorus",
   "metadata": {},
   "outputs": [
    {
     "data": {
      "text/html": [
       "{'type': 'outer <b>mict</b>', 'x': {'name': 'first', 'type': 'coordinate', 'value': 3, 'reprstyler_html': <function reprstyler_basic_html at 0x0000020D02167310>}, 'y': {'name': 'second', 'type': 'coordinate', 'value': 5, 'reprstyler_html': <function reprstyler_basic_html at 0x0000020D02167310>}, 'reprstyler_html': None}"
      ],
      "text/plain": [
       "{'type': 'outer <b>mict</b>', 'x': {'name': 'first', 'type': 'coordinate', 'value': 3, 'reprstyler_html': <function reprstyler_basic_html at 0x0000020D02167310>}, 'y': {'name': 'second', 'type': 'coordinate', 'value': 5, 'reprstyler_html': <function reprstyler_basic_html at 0x0000020D02167310>}, 'reprstyler_html': None}"
      ]
     },
     "execution_count": 43,
     "metadata": {},
     "output_type": "execute_result"
    }
   ],
   "source": [
    "point"
   ]
  },
  {
   "cell_type": "code",
   "execution_count": 44,
   "id": "least-plaza",
   "metadata": {},
   "outputs": [
    {
     "data": {
      "text/plain": [
       "True"
      ]
     },
     "execution_count": 44,
     "metadata": {},
     "output_type": "execute_result"
    }
   ],
   "source": [
    "isinstance(point,mict)"
   ]
  },
  {
   "cell_type": "markdown",
   "id": "valid-interface",
   "metadata": {},
   "source": [
    "## More examples"
   ]
  },
  {
   "cell_type": "code",
   "execution_count": 45,
   "id": "specialized-australia",
   "metadata": {},
   "outputs": [
    {
     "data": {
      "text/html": [
       "<br/><table><tr><th>key</th><th>value</th></tr><tr><td>title</td> <td> some title</td> </tr> <tr><td>subtitle</td> <td> some subtitle</td> </tr> <tr><td>interesting_integer</td> <td> 3</td> </tr> <tr><td>interesting_float</td> <td> 6.283185307179586</td> </tr> <tr><td>big_array</td> <td> np.array(shape=(200, 250)) </td> </tr>  </table>"
      ],
      "text/plain": [
       "{'title': 'some title', 'subtitle': 'some subtitle', 'interesting_integer': 3, 'interesting_float': 6.283185307179586, 'big_array': array([[0.40459763, 0.64140439, 0.02250562, ..., 0.33400559, 0.17766872,\n",
       "        0.03943357],\n",
       "       [0.43986926, 0.27937355, 0.46742819, ..., 0.37697844, 0.21098662,\n",
       "        0.09522587],\n",
       "       [0.36339104, 0.01929237, 0.18907834, ..., 0.5696711 , 0.59096884,\n",
       "        0.34467516],\n",
       "       ...,\n",
       "       [0.23138886, 0.87595231, 0.97926423, ..., 0.17845339, 0.96092345,\n",
       "        0.2536023 ],\n",
       "       [0.43489639, 0.58179511, 0.17412641, ..., 0.98394694, 0.14202521,\n",
       "        0.28503678],\n",
       "       [0.94831272, 0.67236216, 0.64096975, ..., 0.49160768, 0.21575886,\n",
       "        0.0684129 ]]), 'reprstyler_html': <function reprstyler_basic_html at 0x0000020D02167310>}"
      ]
     },
     "execution_count": 45,
     "metadata": {},
     "output_type": "execute_result"
    }
   ],
   "source": [
    "from mict import mict\n",
    "import numpy\n",
    "import math\n",
    "q=mict(title=\"some title\",subtitle=\"some subtitle\",interesting_integer = 3,interesting_float = math.tau,  big_array=numpy.random.random((200,250)))\n",
    "q"
   ]
  },
  {
   "cell_type": "code",
   "execution_count": 46,
   "id": "cubic-schedule",
   "metadata": {},
   "outputs": [
    {
     "data": {
      "text/html": [
       "<h1>some title</h1><h2>some subtitle</h2><p>interesting integer:0003</p><p>interesting float:6.283</p><hr/>"
      ],
      "text/plain": [
       "{'title': 'some title', 'subtitle': 'some subtitle', 'interesting_integer': 3, 'interesting_float': 6.283185307179586, 'big_array': array([[0.40459763, 0.64140439, 0.02250562, ..., 0.33400559, 0.17766872,\n",
       "        0.03943357],\n",
       "       [0.43986926, 0.27937355, 0.46742819, ..., 0.37697844, 0.21098662,\n",
       "        0.09522587],\n",
       "       [0.36339104, 0.01929237, 0.18907834, ..., 0.5696711 , 0.59096884,\n",
       "        0.34467516],\n",
       "       ...,\n",
       "       [0.23138886, 0.87595231, 0.97926423, ..., 0.17845339, 0.96092345,\n",
       "        0.2536023 ],\n",
       "       [0.43489639, 0.58179511, 0.17412641, ..., 0.98394694, 0.14202521,\n",
       "        0.28503678],\n",
       "       [0.94831272, 0.67236216, 0.64096975, ..., 0.49160768, 0.21575886,\n",
       "        0.0684129 ]]), 'reprstyler_html': <function basic_html_styler at 0x0000020D0218D790>}"
      ]
     },
     "execution_count": 46,
     "metadata": {},
     "output_type": "execute_result"
    }
   ],
   "source": [
    "def basic_html_styler(this):\n",
    "    output = f'<h1>{this.title}</h1>'\n",
    "    output = f'{output}<h2>{this.subtitle}</h2>'\n",
    "    output = f'{output}<p>interesting integer:{this.interesting_integer:04d}</p>'\n",
    "    output = f'{output}<p>interesting float:{this.interesting_float:0.{this.interesting_integer}f}</p>'\n",
    "    output = f'{output}<hr/>'\n",
    "    return output\n",
    "\n",
    "q.reprstyler_html = basic_html_styler\n",
    "q"
   ]
  },
  {
   "cell_type": "markdown",
   "id": "amino-spyware",
   "metadata": {},
   "source": [
    "## Gotchas\n",
    "\n",
    "* `mict` does not throw an error when trying to access undefined field. Instead, it returns `None`\n",
    "\n",
    "\n",
    "## Attributions\n",
    "\n",
    "Happily copypasted from https://stackoverflow.com/questions/2352181/how-to-use-a-dot-to-access-members-of-dictionary , and modified only slightly.\n",
    "\n",
    "then, extended a bit.\n",
    "\n",
    "then, a bit more, with optional reprstyler. See the source code for `self.__repr__()`.\n",
    "\n",
    "\n",
    "## Related packages \n",
    "\n",
    "see also: \n",
    "\n",
    "https://pypi.org/project/python-box/\n",
    "\n",
    "\n",
    "## License\n",
    "\n",
    "MIT License, Copyright (c) 2017-2020 Chris Griffith. See LICENSE file.\n"
   ]
  },
  {
   "cell_type": "code",
   "execution_count": null,
   "id": "proud-council",
   "metadata": {},
   "outputs": [],
   "source": []
  }
 ],
 "metadata": {
  "kernelspec": {
   "display_name": "Python 3",
   "language": "python",
   "name": "python3"
  },
  "language_info": {
   "codemirror_mode": {
    "name": "ipython",
    "version": 3
   },
   "file_extension": ".py",
   "mimetype": "text/x-python",
   "name": "python",
   "nbconvert_exporter": "python",
   "pygments_lexer": "ipython3",
   "version": "3.8.5"
  }
 },
 "nbformat": 4,
 "nbformat_minor": 5
}
