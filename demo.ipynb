{
 "cells": [
  {
   "cell_type": "markdown",
   "id": "informed-assumption",
   "metadata": {},
   "source": [
    "## `mict` -- middle-ground between `dict` and a `class`\n",
    "\n",
    "[![Binder](https://mybinder.org/badge_logo.svg)](https://mybinder.org/v2/gh/jerzydziewierz/mict/HEAD?filepath=demo.ipynb)\n",
    "\n",
    "Provides `MATLAB`-struct-like dot notation for setting and of items in a `dict` (dictionary), and a handful of interactivity tools.\n",
    "\n",
    "`mict` is intended to be a middle ground between `dict` and full fledged `class` / `object` pattern for structured data storage.\n",
    "\n",
    "It does a bit more than basic `dict`, but does not attempt to supersede pandas, numpy nor other advanced data storage tools\n"
   ]
  },
  {
   "cell_type": "markdown",
   "id": "expanded-flood",
   "metadata": {},
   "source": [
    "## Installation\n",
    "\n",
    "try installing with `pip`, grabbing it straight from git:\n",
    "\n",
    "```bash\n",
    "python -m pip install -e -U -q git+https://github.com/jerzydziewierz/mict.git#egg=mict\n",
    "```"
   ]
  },
  {
   "cell_type": "markdown",
   "id": "4231fa99",
   "metadata": {},
   "source": [
    "## Demo\n",
    "\n",
    "Online demo with binder: \n",
    "\n",
    "[![Binder](https://mybinder.org/badge_logo.svg)](https://mybinder.org/v2/gh/jerzydziewierz/mict/HEAD?filepath=demo.ipynb)\n",
    "\n",
    "local demo: please see `demo.ipynb` -- a jupyter notebook."
   ]
  },
  {
   "cell_type": "markdown",
   "id": "filled-ribbon",
   "metadata": {},
   "source": [
    "## Basic usage"
   ]
  },
  {
   "cell_type": "code",
   "execution_count": 1,
   "id": "dense-pencil",
   "metadata": {},
   "outputs": [
    {
     "data": {
      "text/html": [
       "<br/><table><tr><th>key</th><th>value</th></tr><tr><td>first</td> <td> Hello world!</td> </tr>  </table>"
      ],
      "text/plain": [
       "{'first': 'Hello world!'}"
      ]
     },
     "execution_count": 1,
     "metadata": {},
     "output_type": "execute_result"
    }
   ],
   "source": [
    "from mict import mict\n",
    "q=mict()\n",
    "q.first = 'Hello world!'\n",
    "q"
   ]
  },
  {
   "cell_type": "markdown",
   "id": "grateful-suffering",
   "metadata": {},
   "source": [
    "---\n",
    "\n",
    "the key power of mict is the ease of adding, removing, altering the contents -- and the the nice visualisation of it's contents. \n",
    "\n",
    "You can add new keys easily, and then access them using dot-notation:"
   ]
  },
  {
   "cell_type": "code",
   "execution_count": 2,
   "id": "337c7516",
   "metadata": {},
   "outputs": [
    {
     "data": {
      "text/html": [
       "<br/><table><tr><th>key</th><th>value</th></tr><tr><td>first</td> <td> Hello world!</td> </tr> <tr><td>third</td> <td> 3</td> </tr>  </table>"
      ],
      "text/plain": [
       "{'first': 'Hello world!', 'third': 3}"
      ]
     },
     "execution_count": 2,
     "metadata": {},
     "output_type": "execute_result"
    }
   ],
   "source": [
    "q.third = 3\n",
    "q"
   ]
  },
  {
   "cell_type": "markdown",
   "id": "b28c04fb",
   "metadata": {},
   "source": [
    "You can store functions and call them. `mict` attempts to display the signature of the function for you. "
   ]
  },
  {
   "cell_type": "code",
   "execution_count": 3,
   "id": "educated-gibraltar",
   "metadata": {},
   "outputs": [
    {
     "data": {
      "text/html": [
       "<br/><table><tr><th>key</th><th>value</th></tr><tr><td>first</td> <td> Hello world!</td> </tr> <tr><td>third</td> <td> 3</td> </tr> <tr><td>add</td><td> <code>add(self,y)</code></td> </tr> <tr><td>sub</td><td> <code>sub(self,y)</code></td> </tr>  </table>"
      ],
      "text/plain": [
       "{'first': 'Hello world!', 'third': 3, 'add': <function _some_fn at 0x7fddbc8de160>, 'sub': <function <lambda> at 0x7fddbc8de040>}"
      ]
     },
     "execution_count": 3,
     "metadata": {},
     "output_type": "execute_result"
    }
   ],
   "source": [
    "def _some_fn(self,y):\n",
    "    return self.third+y \n",
    "q.add = _some_fn \n",
    "q.sub = lambda self,y: self.third-y\n",
    "q"
   ]
  },
  {
   "cell_type": "markdown",
   "id": "59f11980",
   "metadata": {},
   "source": [
    "call the function from inside the `mict`, that operates on that mict:"
   ]
  },
  {
   "cell_type": "code",
   "execution_count": 4,
   "id": "89be2544",
   "metadata": {
    "scrolled": true
   },
   "outputs": [
    {
     "data": {
      "text/plain": [
       "5"
      ]
     },
     "execution_count": 4,
     "metadata": {},
     "output_type": "execute_result"
    }
   ],
   "source": [
    "q.add(q,2)"
   ]
  },
  {
   "cell_type": "code",
   "execution_count": 5,
   "id": "4dc738d1",
   "metadata": {},
   "outputs": [
    {
     "data": {
      "text/plain": [
       "1"
      ]
     },
     "execution_count": 5,
     "metadata": {},
     "output_type": "execute_result"
    }
   ],
   "source": [
    "q.sub(q,2)"
   ]
  },
  {
   "cell_type": "markdown",
   "id": "altered-format",
   "metadata": {},
   "source": [
    "--- \n",
    "\n",
    "The visualiser function in `mict` is called `reprstyler`.\n",
    "\n",
    "A new `mict` instance comes with the `reprstyler_html` already set to `reprstyler_basic_html` but you can, and should make your own reprstylers.\n",
    "\n",
    "example reprstyler:"
   ]
  },
  {
   "cell_type": "markdown",
   "id": "latter-grenada",
   "metadata": {},
   "source": [
    "## Convinence save and load functions using pickle\n",
    "\n",
    "> **Warning**: Since the `pickle` save/load also loads executable functions (including the `reprstyler`), all the precautions that apply to `pickle` apply here. Loading untrusted files is potentially unsafe.\n",
    "\n",
    "methods `to_pickle` and `from_pickle` work as you would expect:"
   ]
  },
  {
   "cell_type": "code",
   "execution_count": 6,
   "id": "substantial-ultimate",
   "metadata": {},
   "outputs": [
    {
     "data": {
      "text/plain": [
       "True"
      ]
     },
     "execution_count": 6,
     "metadata": {},
     "output_type": "execute_result"
    }
   ],
   "source": [
    "q.to_pickle('demo.pickle')"
   ]
  },
  {
   "cell_type": "code",
   "execution_count": 7,
   "id": "brown-baseball",
   "metadata": {},
   "outputs": [
    {
     "data": {
      "text/html": [
       "<br/><table><tr><th>key</th><th>value</th></tr><tr><td>first</td> <td> Hello world!</td> </tr> <tr><td>third</td> <td> 3</td> </tr> <tr><td>add</td><td> <code>add(self,y)</code></td> </tr> <tr><td>sub</td><td> <code>sub(self,y)</code></td> </tr>  </table>"
      ],
      "text/plain": [
       "{'first': 'Hello world!', 'third': 3, 'add': <function _some_fn at 0x7fddbc84b310>, 'sub': <function <lambda> at 0x7fddbc84b3a0>}"
      ]
     },
     "execution_count": 7,
     "metadata": {},
     "output_type": "execute_result"
    }
   ],
   "source": [
    "q=mict.from_pickle('demo.pickle')\n",
    "q"
   ]
  },
  {
   "cell_type": "markdown",
   "id": "biological-opinion",
   "metadata": {},
   "source": [
    "## Customizing the reprstyler \n",
    "\n",
    "This is the real reason why I developed mict: I wanted to have a quick and simple way to customize how the contents of the dictionary are visualized.\n",
    "    "
   ]
  },
  {
   "cell_type": "code",
   "execution_count": 8,
   "id": "enabling-forest",
   "metadata": {},
   "outputs": [
    {
     "data": {
      "text/html": [
       "<br/><table><tr><th>key</th><th>value</th></tr><tr><td>zap</td> <td> None </td> </tr> <tr><td>mickie</td> <td> 6.28</td> </tr> <tr><td>hidden_value1</td> <td> 45</td> </tr>  </table>"
      ],
      "text/plain": [
       "{'zap': None, 'mickie': 6.28, 'hidden_value1': 45}"
      ]
     },
     "execution_count": 8,
     "metadata": {},
     "output_type": "execute_result"
    }
   ],
   "source": [
    "from mict import mict\n",
    "def mickiestyler(self):\n",
    "    return f'mickie score: {self.mickie:0.3f}'\n",
    "\n",
    "q=mict(zap=None,mickie=6.28,hidden_value1=45)\n",
    "q"
   ]
  },
  {
   "cell_type": "code",
   "execution_count": 9,
   "id": "62fb1264",
   "metadata": {},
   "outputs": [
    {
     "data": {
      "text/html": [
       "mickie score: 6.280"
      ],
      "text/plain": [
       "{'zap': None, 'mickie': 6.28, 'hidden_value1': 45, 'reprstyler_html': <function mickiestyler at 0x7fddbc84b430>}"
      ]
     },
     "execution_count": 9,
     "metadata": {},
     "output_type": "execute_result"
    }
   ],
   "source": [
    "q.reprstyler_html = mickiestyler\n",
    "q"
   ]
  },
  {
   "cell_type": "code",
   "execution_count": 10,
   "id": "5f5135da",
   "metadata": {},
   "outputs": [
    {
     "data": {
      "text/html": [
       "{'zap': None, 'mickie': 6.28, 'hidden_value1': 45, 'reprstyler_html': None}"
      ],
      "text/plain": [
       "{'zap': None, 'mickie': 6.28, 'hidden_value1': 45, 'reprstyler_html': None}"
      ]
     },
     "execution_count": 10,
     "metadata": {},
     "output_type": "execute_result"
    }
   ],
   "source": [
    "q.reprstyler_html = None\n",
    "q"
   ]
  },
  {
   "cell_type": "markdown",
   "id": "printable-addiction",
   "metadata": {},
   "source": [
    "---\n",
    "\n",
    "Even tough you should strive to make all your objects functional and immutable in general, for development purposes it is convenient to mutate your objects sometimes. The reprstyler can be changed **after** initializing the `mict` storage itself"
   ]
  },
  {
   "cell_type": "code",
   "execution_count": 11,
   "id": "practical-yemen",
   "metadata": {},
   "outputs": [
    {
     "data": {
      "text/html": [
       "keys:   zap =None; mickie =6.28; hidden_value1 =45; reprstyler_html =<function new_reprstyler at 0x7fddbc7d5040>;"
      ],
      "text/plain": [
       "{'zap': None, 'mickie': 6.28, 'hidden_value1': 45, 'reprstyler_html': <function new_reprstyler at 0x7fddbc7d5040>}"
      ]
     },
     "execution_count": 11,
     "metadata": {},
     "output_type": "execute_result"
    }
   ],
   "source": [
    "def new_reprstyler(subject=None):\n",
    "    txt = 'keys:  '\n",
    "    for key in subject.keys():\n",
    "        txt = f\"{txt} {key} ={subject[key]};\"\n",
    "    return txt\n",
    "\n",
    "q.reprstyler_html = new_reprstyler\n",
    "q"
   ]
  },
  {
   "cell_type": "markdown",
   "id": "particular-payroll",
   "metadata": {},
   "source": [
    "then, if you want a different styler for jupyter, and a different one for text-only, you can (optionally) override the `reprstyler` with `reprstyler_html`. It will only be used if `_repr_html_` is called -- as `jupyter` first tries to call that first.\n",
    "\n",
    "In the examples below, note how reprstyler is executed to produce html based on the current contents of the `mict`\n"
   ]
  },
  {
   "cell_type": "code",
   "execution_count": 12,
   "id": "disabled-walnut",
   "metadata": {},
   "outputs": [
    {
     "data": {
      "text/html": [
       "<h4>✅mickie score: 6.280</h4>"
      ],
      "text/plain": [
       "{'zap': None, 'mickie': 6.28, 'hidden_value1': 45, 'reprstyler_html': <function mickiestyler_html at 0x7fddbc7d5430>}"
      ]
     },
     "execution_count": 12,
     "metadata": {},
     "output_type": "execute_result"
    }
   ],
   "source": [
    "def mickiestyler_html(subject):\n",
    "    return f'<h4>✅mickie score: {subject.mickie:0.3f}</h4>' if subject.mickie>5 else f'<h4>❌not mickie enough: {subject.mickie:0.3f}</h4>'\n",
    "q.reprstyler_html = mickiestyler_html\n",
    "q"
   ]
  },
  {
   "cell_type": "code",
   "execution_count": 13,
   "id": "9435bd48",
   "metadata": {},
   "outputs": [
    {
     "data": {
      "text/html": [
       "<h4>❌not mickie enough: 3.000</h4>"
      ],
      "text/plain": [
       "{'zap': None, 'mickie': 3, 'hidden_value1': 45, 'reprstyler_html': <function mickiestyler_html at 0x7fddbc7d5430>}"
      ]
     },
     "execution_count": 13,
     "metadata": {},
     "output_type": "execute_result"
    }
   ],
   "source": [
    "q.mickie = 3\n",
    "q"
   ]
  },
  {
   "cell_type": "code",
   "execution_count": 14,
   "id": "0fb39e8a",
   "metadata": {},
   "outputs": [
    {
     "data": {
      "text/plain": [
       "<function __main__.mickiestyler_html(subject)>"
      ]
     },
     "execution_count": 14,
     "metadata": {},
     "output_type": "execute_result"
    }
   ],
   "source": [
    "q.reprstyler_html"
   ]
  },
  {
   "cell_type": "markdown",
   "id": "fiscal-generic",
   "metadata": {},
   "source": [
    "## An even quicker way to make a reprstyler\n",
    "\n",
    "You can use `lambda` anonymous function definition to make a reprstyler quickly.\n",
    "\n",
    "Note that reprstyler_html will display any html you give it, including images, videos, sound or javascript inserts"
   ]
  },
  {
   "cell_type": "code",
   "execution_count": 15,
   "id": "advanced-elimination",
   "metadata": {},
   "outputs": [
    {
     "data": {
      "text/html": [
       "<svg height=\"100\" width=\"100\"><circle cx=\"50\" cy=\"50\" r=\"15\" stroke=\"black\" stroke-width=\"3\" fill=\"blue\" /></svg>"
      ],
      "text/plain": [
       "{'fill': 'blue', 'r': 15, 'reprstyler_html': <function <lambda> at 0x7fddbc7d5dc0>}"
      ]
     },
     "execution_count": 15,
     "metadata": {},
     "output_type": "execute_result"
    }
   ],
   "source": [
    "q=mict(fill='blue',r=15)\n",
    "q.reprstyler_html= lambda this:f'<svg height=\"100\" width=\"100\"><circle cx=\"50\" cy=\"50\" r=\"{this.r}\" stroke=\"black\" stroke-width=\"3\" fill=\"{this.fill}\" /></svg>'\n",
    "q\n"
   ]
  },
  {
   "cell_type": "code",
   "execution_count": 16,
   "id": "answering-summer",
   "metadata": {},
   "outputs": [
    {
     "data": {
      "text/html": [
       "<svg height=\"100\" width=\"100\"><circle cx=\"50\" cy=\"50\" r=\"32\" stroke=\"black\" stroke-width=\"3\" fill=\"red\" /></svg>"
      ],
      "text/plain": [
       "{'fill': 'red', 'r': 32, 'reprstyler_html': <function <lambda> at 0x7fddbc7d5dc0>}"
      ]
     },
     "execution_count": 16,
     "metadata": {},
     "output_type": "execute_result"
    }
   ],
   "source": [
    "q.r=32\n",
    "q.fill='red'\n",
    "q"
   ]
  },
  {
   "cell_type": "markdown",
   "id": "be565436",
   "metadata": {},
   "source": [
    "Remove the `reprstyler` and use the default `dict` styler.\n",
    "\n",
    "use the `tpop` method which is equivalent to `try pop(); except pass` - hence does not throw exception on no key present"
   ]
  },
  {
   "cell_type": "code",
   "execution_count": 17,
   "id": "proper-tiger",
   "metadata": {},
   "outputs": [
    {
     "data": {
      "text/html": [
       "{'fill': 'red', 'reprstyler_html': None}"
      ],
      "text/plain": [
       "{'fill': 'red', 'reprstyler_html': None}"
      ]
     },
     "execution_count": 17,
     "metadata": {},
     "output_type": "execute_result"
    }
   ],
   "source": [
    "\n",
    "q.reprstyler_html=None\n",
    "q.tpop('reprstyler_html')"
   ]
  },
  {
   "cell_type": "code",
   "execution_count": 18,
   "id": "brazilian-habitat",
   "metadata": {},
   "outputs": [
    {
     "data": {
      "text/html": [
       "{'fill': 'red', 'reprstyler_html': None}"
      ],
      "text/plain": [
       "{'fill': 'red', 'reprstyler_html': None}"
      ]
     },
     "execution_count": 18,
     "metadata": {},
     "output_type": "execute_result"
    }
   ],
   "source": [
    "q"
   ]
  },
  {
   "cell_type": "markdown",
   "id": "attended-lambda",
   "metadata": {},
   "source": [
    "---\n",
    "\n",
    "## Note\n",
    "\n",
    "If you really feel like it, this could be extended to markdown, png, svg and other visualizers supported by jupyter.\n",
    "\n",
    "\n",
    "Importantly, you can still see the classic `dict` __repr__ function (lists all keys/values) using\n",
    "\n",
    "```python\n",
    "super(handybeam.dict,q).__repr__()\n",
    "```"
   ]
  },
  {
   "cell_type": "markdown",
   "id": "encouraging-cache",
   "metadata": {},
   "source": [
    "# Advanced uses\n",
    "\n",
    "## Show shape of big variables, instead of it's content.\n",
    "\n",
    "many of the actual research code will use numpy arrays or long lists. These are typically unwieldy to just display.\n",
    "\n",
    "`mict` provides a way to only display the shape of the numpy/tensorflow/pytorch/jax array, instead of the contents. You will find that this is often what you need displayed."
   ]
  },
  {
   "cell_type": "code",
   "execution_count": 19,
   "id": "weighted-loading",
   "metadata": {},
   "outputs": [
    {
     "data": {
      "text/html": [
       "<br/><table><tr><th>key</th><th>value</th></tr><tr><td>small_array</td> <td> np.array(shape=(5,)) </td> </tr>  </table>"
      ],
      "text/plain": [
       "{'small_array': array([1, 2, 3, 4, 5])}"
      ]
     },
     "execution_count": 19,
     "metadata": {},
     "output_type": "execute_result"
    }
   ],
   "source": [
    "from mict import reprstyler_basic_html\n",
    "import numpy\n",
    "q=mict(small_array=numpy.array([1,2,3,4,5]))\n",
    "q"
   ]
  },
  {
   "cell_type": "code",
   "execution_count": 20,
   "id": "worldwide-consultancy",
   "metadata": {},
   "outputs": [
    {
     "data": {
      "text/html": [
       "<br/><table><tr><th>key</th><th>value</th></tr><tr><td>small_array</td> <td> np.array(shape=(5,)) </td> </tr> <tr><td>large_array</td> <td> np.array(shape=(150, 150)) </td> </tr>  </table>"
      ],
      "text/plain": [
       "{'small_array': array([1, 2, 3, 4, 5]), 'large_array': array([[0.96664112, 0.94557666, 0.80872245, ..., 0.56197239, 0.14589443,\n",
       "        0.11876373],\n",
       "       [0.57775286, 0.83414222, 0.68994155, ..., 0.37865925, 0.92227107,\n",
       "        0.42524188],\n",
       "       [0.89365363, 0.08735191, 0.20768097, ..., 0.91273276, 0.29965312,\n",
       "        0.151064  ],\n",
       "       ...,\n",
       "       [0.63883047, 0.6775374 , 0.64432295, ..., 0.67601575, 0.89935389,\n",
       "        0.83498269],\n",
       "       [0.1029665 , 0.46933797, 0.60642994, ..., 0.59298733, 0.39519859,\n",
       "        0.83333657],\n",
       "       [0.16881425, 0.63617681, 0.7223034 , ..., 0.26898997, 0.53126513,\n",
       "        0.0804566 ]]), 'reprstyler_html': <function reprstyler_basic_html at 0x7fddbc8cf1f0>}"
      ]
     },
     "execution_count": 20,
     "metadata": {},
     "output_type": "execute_result"
    }
   ],
   "source": [
    "q.large_array=numpy.random.random((150,150))\n",
    "q.reprstyler_html = reprstyler_basic_html # optional set -- this is already a default\n",
    "q"
   ]
  },
  {
   "cell_type": "markdown",
   "id": "three-helicopter",
   "metadata": {},
   "source": [
    "# Advanced uses\n",
    "\n",
    "## Capture locals from inside the function and return them in a `dict` / `mict` \n",
    "\n",
    "When developing a research function, you will often want to capture **all** the locals inside it for debug purposes. \n",
    "\n",
    "Only when stabilizing the implementation, you will want to prune the result and leave usefull return values only."
   ]
  },
  {
   "cell_type": "code",
   "execution_count": 21,
   "id": "random-ranking",
   "metadata": {},
   "outputs": [
    {
     "data": {
      "text/html": [
       "<br/><table><tr><th>key</th><th>value</th></tr><tr><td>x</td> <td> 4</td> </tr> <tr><td>y</td> <td> 2</td> </tr> <tr><td>a</td> <td> 6</td> </tr> <tr><td>c</td> <td> 48</td> </tr>  </table>"
      ],
      "text/plain": [
       "{'x': 4, 'y': 2, 'a': 6, 'c': 48, 'reprstyler_html': <function reprstyler_basic_html at 0x7fddbc8cf1f0>}"
      ]
     },
     "execution_count": 21,
     "metadata": {},
     "output_type": "execute_result"
    }
   ],
   "source": [
    " # define a function\n",
    "def do_maths(x=1,y=2):\n",
    "    a=x+y\n",
    "    b=a*x\n",
    "    c=b*y\n",
    "    result = mict.from_locals()  # puts `x`,`y`,`a`,`b`,`c` into `result`. \n",
    "    result.pop('b') # remove 'b' from the result\n",
    "    return result\n",
    "\n",
    "# execute that function\n",
    "demo_result = do_maths(x=4,y=2)\n",
    "\n",
    "# review function's locals\n",
    "demo_result"
   ]
  },
  {
   "cell_type": "markdown",
   "id": "10645fd8",
   "metadata": {},
   "source": [
    "> Danger zone : this will overwrite your locals, and may lead to crazy results if something crazy was stored in the mict.\n",
    "\n",
    "load the variables from the mict back into locals."
   ]
  },
  {
   "cell_type": "code",
   "execution_count": 22,
   "id": "12e580c7",
   "metadata": {},
   "outputs": [
    {
     "data": {
      "text/plain": [
       "4"
      ]
     },
     "execution_count": 22,
     "metadata": {},
     "output_type": "execute_result"
    }
   ],
   "source": [
    "demo_result.unpack_to_locals()\n",
    "x"
   ]
  },
  {
   "cell_type": "code",
   "execution_count": 23,
   "id": "ff46a122",
   "metadata": {},
   "outputs": [
    {
     "data": {
      "text/plain": [
       "2"
      ]
     },
     "execution_count": 23,
     "metadata": {},
     "output_type": "execute_result"
    }
   ],
   "source": [
    "y"
   ]
  },
  {
   "cell_type": "markdown",
   "id": "remarkable-tonight",
   "metadata": {},
   "source": [
    "# Advanced uses\n",
    "\n",
    "## Nested dictionary use and special attributes\n",
    "\n",
    "note that `name` and `type` have a special meaning for the default visualizer, `reprstyler_basic_html`.\n",
    "\n",
    "Moreover, the `reprstyler_basic_html` will try to obtain html from inner (nested) `mict`s and display it in a table.\n",
    "\n",
    "Note that `reprstyler_basic_html` is merely another function from the `mict` module, and can be overridden with any other reprstyler. If `reprstyler_html` is set to `None`, the default `dict.__repr__()` is used."
   ]
  },
  {
   "cell_type": "code",
   "execution_count": 24,
   "id": "spoken-banking",
   "metadata": {},
   "outputs": [],
   "source": [
    "x=mict(name='first',type='coordinate', value=3)\n",
    "y=mict(name='second', type='coordinate', value=5)\n",
    "point=mict(type='outer <b>mict</b>',x=x,y=y)"
   ]
  },
  {
   "cell_type": "code",
   "execution_count": 25,
   "id": "incorrect-fitting",
   "metadata": {},
   "outputs": [
    {
     "data": {
      "text/html": [
       "<em>Type:</em> coordinate; <em>Name:</em> first; <br/><table><tr><th>key</th><th>value</th></tr><tr><td>value</td> <td> 3</td> </tr>  </table>"
      ],
      "text/plain": [
       "{'name': 'first', 'type': 'coordinate', 'value': 3}"
      ]
     },
     "execution_count": 25,
     "metadata": {},
     "output_type": "execute_result"
    }
   ],
   "source": [
    "x"
   ]
  },
  {
   "cell_type": "code",
   "execution_count": 26,
   "id": "incomplete-program",
   "metadata": {},
   "outputs": [
    {
     "data": {
      "text/html": [
       "<em>Type:</em> coordinate; <em>Name:</em> second; <br/><table><tr><th>key</th><th>value</th></tr><tr><td>value</td> <td> 5</td> </tr>  </table>"
      ],
      "text/plain": [
       "{'name': 'second', 'type': 'coordinate', 'value': 5}"
      ]
     },
     "execution_count": 26,
     "metadata": {},
     "output_type": "execute_result"
    }
   ],
   "source": [
    "y"
   ]
  },
  {
   "cell_type": "code",
   "execution_count": 27,
   "id": "turkish-facing",
   "metadata": {},
   "outputs": [
    {
     "data": {
      "text/html": [
       "<em>Type:</em> outer <b>mict</b>; <br/><table><tr><th>key</th><th>value</th></tr><tr><td>x</td><td><em>Type:</em> coordinate; <em>Name:</em> first; <br/><table><tr><th>key</th><th>value</th></tr><tr><td>value</td> <td> 3</td> </tr>  </table></td> </tr> <tr><td>y</td><td><em>Type:</em> coordinate; <em>Name:</em> second; <br/><table><tr><th>key</th><th>value</th></tr><tr><td>value</td> <td> 5</td> </tr>  </table></td> </tr>  </table>"
      ],
      "text/plain": [
       "{'type': 'outer <b>mict</b>', 'x': {'name': 'first', 'type': 'coordinate', 'value': 3}, 'y': {'name': 'second', 'type': 'coordinate', 'value': 5}}"
      ]
     },
     "execution_count": 27,
     "metadata": {},
     "output_type": "execute_result"
    }
   ],
   "source": [
    "point"
   ]
  },
  {
   "cell_type": "code",
   "execution_count": 28,
   "id": "extraordinary-transcript",
   "metadata": {},
   "outputs": [
    {
     "data": {
      "text/plain": [
       "'<em>Type:</em> outer <b>mict</b>; <br/><table><tr><th>key</th><th>value</th></tr><tr><td>x</td><td><em>Type:</em> coordinate; <em>Name:</em> first; <br/><table><tr><th>key</th><th>value</th></tr><tr><td>value</td> <td> 3</td> </tr>  </table></td> </tr> <tr><td>y</td><td><em>Type:</em> coordinate; <em>Name:</em> second; <br/><table><tr><th>key</th><th>value</th></tr><tr><td>value</td> <td> 5</td> </tr>  </table></td> </tr>  </table>'"
      ]
     },
     "execution_count": 28,
     "metadata": {},
     "output_type": "execute_result"
    }
   ],
   "source": [
    "v=point._repr_html_()\n",
    "v"
   ]
  },
  {
   "cell_type": "code",
   "execution_count": 29,
   "id": "stopped-employer",
   "metadata": {},
   "outputs": [],
   "source": [
    "point.reprstyler_html=None"
   ]
  },
  {
   "cell_type": "code",
   "execution_count": 30,
   "id": "linear-retreat",
   "metadata": {},
   "outputs": [
    {
     "data": {
      "text/html": [
       "{'type': 'outer <b>mict</b>', 'x': {'name': 'first', 'type': 'coordinate', 'value': 3}, 'y': {'name': 'second', 'type': 'coordinate', 'value': 5}, 'reprstyler_html': None}"
      ],
      "text/plain": [
       "{'type': 'outer <b>mict</b>', 'x': {'name': 'first', 'type': 'coordinate', 'value': 3}, 'y': {'name': 'second', 'type': 'coordinate', 'value': 5}, 'reprstyler_html': None}"
      ]
     },
     "execution_count": 30,
     "metadata": {},
     "output_type": "execute_result"
    }
   ],
   "source": [
    "point"
   ]
  },
  {
   "cell_type": "code",
   "execution_count": 31,
   "id": "inside-dream",
   "metadata": {},
   "outputs": [
    {
     "data": {
      "text/plain": [
       "True"
      ]
     },
     "execution_count": 31,
     "metadata": {},
     "output_type": "execute_result"
    }
   ],
   "source": [
    "isinstance(point,mict)"
   ]
  },
  {
   "cell_type": "markdown",
   "id": "fewer-provider",
   "metadata": {},
   "source": [
    "## More examples"
   ]
  },
  {
   "cell_type": "code",
   "execution_count": 32,
   "id": "current-biology",
   "metadata": {},
   "outputs": [
    {
     "data": {
      "text/html": [
       "<br/><table><tr><th>key</th><th>value</th></tr><tr><td>title</td> <td> some title</td> </tr> <tr><td>subtitle</td> <td> some subtitle</td> </tr> <tr><td>interesting_integer</td> <td> 3</td> </tr> <tr><td>interesting_float</td> <td> 6.28</td> </tr> <tr><td>big_array</td> <td> np.array(shape=(200, 250)) </td> </tr>  </table>"
      ],
      "text/plain": [
       "{'title': 'some title', 'subtitle': 'some subtitle', 'interesting_integer': 3, 'interesting_float': 6.283185307179586, 'big_array': array([[0.56010521, 0.72958158, 0.1902957 , ..., 0.01983149, 0.54744355,\n",
       "        0.91040881],\n",
       "       [0.4044862 , 0.46932414, 0.7893918 , ..., 0.91853963, 0.28227311,\n",
       "        0.9563306 ],\n",
       "       [0.02124869, 0.2343184 , 0.13481907, ..., 0.04111261, 0.24252155,\n",
       "        0.71227556],\n",
       "       ...,\n",
       "       [0.90988761, 0.23970703, 0.25774679, ..., 0.87997978, 0.99437305,\n",
       "        0.39329894],\n",
       "       [0.6432976 , 0.72931159, 0.88774214, ..., 0.47381733, 0.40311719,\n",
       "        0.39590683],\n",
       "       [0.09017084, 0.72583605, 0.5375708 , ..., 0.13186973, 0.13164289,\n",
       "        0.94042024]])}"
      ]
     },
     "execution_count": 32,
     "metadata": {},
     "output_type": "execute_result"
    }
   ],
   "source": [
    "from mict import mict\n",
    "import numpy\n",
    "import math\n",
    "q=mict(title=\"some title\",subtitle=\"some subtitle\",interesting_integer = 3,interesting_float = math.tau,  big_array=numpy.random.random((200,250)))\n",
    "q"
   ]
  },
  {
   "cell_type": "code",
   "execution_count": 60,
   "id": "incorporated-spanish",
   "metadata": {},
   "outputs": [
    {
     "data": {
      "text/html": [
       "<h1>some title</h1><h2>some subtitle</h2><p>interesting integer:0003</p><p>interesting float:6.283</p><p>some stats: this.big_array.std()=0.2888</p><hr/><button id=\"bt1\" onclick=\"alert('any javascript goes.')\" style=\"width:500px; margin-left:200px\">raise alarm</button><hr/>"
      ],
      "text/plain": [
       "{'title': 'some title', 'subtitle': 'some subtitle', 'interesting_integer': 3, 'interesting_float': 6.283185307179586, 'big_array': array([[0.56010521, 0.72958158, 0.1902957 , ..., 0.01983149, 0.54744355,\n",
       "        0.91040881],\n",
       "       [0.4044862 , 0.46932414, 0.7893918 , ..., 0.91853963, 0.28227311,\n",
       "        0.9563306 ],\n",
       "       [0.02124869, 0.2343184 , 0.13481907, ..., 0.04111261, 0.24252155,\n",
       "        0.71227556],\n",
       "       ...,\n",
       "       [0.90988761, 0.23970703, 0.25774679, ..., 0.87997978, 0.99437305,\n",
       "        0.39329894],\n",
       "       [0.6432976 , 0.72931159, 0.88774214, ..., 0.47381733, 0.40311719,\n",
       "        0.39590683],\n",
       "       [0.09017084, 0.72583605, 0.5375708 , ..., 0.13186973, 0.13164289,\n",
       "        0.94042024]]), 'reprstyler_html': <function custom_html_styler at 0x7fddbb1d49d0>}"
      ]
     },
     "execution_count": 60,
     "metadata": {},
     "output_type": "execute_result"
    }
   ],
   "source": [
    "def custom_html_styler(this):\n",
    "    output = f'<h1>{this.title}</h1>'\n",
    "    output = f'{output}<h2>{this.subtitle}</h2>'\n",
    "    output = f'{output}<p>interesting integer:{this.interesting_integer:04d}</p>'\n",
    "    output = f'{output}<p>interesting float:{this.interesting_float:0.{this.interesting_integer}f}</p>'\n",
    "    output = f'{output}<p>some stats: {this.big_array.std()=:0.4f}</p>'\n",
    "    output = f'{output}<hr/>'\n",
    "    output = f\"\"\"{output}<button id=\"bt1\" onclick=\"alert('any javascript goes.')\" style=\"width:500px; margin-left:200px\">raise alarm</button>\"\"\"\n",
    "    output = f'{output}<hr/>'\n",
    "    return output\n",
    "\n",
    "q.reprstyler_html = custom_html_styler\n",
    "q"
   ]
  },
  {
   "cell_type": "code",
   "execution_count": 61,
   "id": "recognized-pittsburgh",
   "metadata": {},
   "outputs": [
    {
     "data": {
      "text/plain": [
       "0.2888494364193682"
      ]
     },
     "execution_count": 61,
     "metadata": {},
     "output_type": "execute_result"
    }
   ],
   "source": [
    "q.big_array.std()"
   ]
  },
  {
   "cell_type": "markdown",
   "id": "08588812",
   "metadata": {},
   "source": [
    "## Gotchas\n",
    "\n",
    "* `mict` does not throw an error when trying to access undefined field. Instead, it gives a warning and returns `None`\n"
   ]
  },
  {
   "cell_type": "code",
   "execution_count": 62,
   "id": "ab633c12",
   "metadata": {},
   "outputs": [
    {
     "name": "stderr",
     "output_type": "stream",
     "text": [
      "/tmp/ipykernel_69670/3203445190.py:1: UserWarning: no key \"this_key_does_not_exist\" in this dictionary. \n",
      "valid keys are ['title', 'subtitle', 'interesting_integer', 'interesting_float', 'big_array', 'reprstyler_html']\n",
      "  type(q.this_key_does_not_exist)\n",
      "/home/mib07150/miniconda3/envs/cutfm21/lib/python3.9/site-packages/IPython/core/interactiveshell.py:3441: UserWarning: in \n",
      "  exec(code_obj, self.user_global_ns, self.user_ns)\n",
      "/home/mib07150/miniconda3/envs/cutfm21/lib/python3.9/site-packages/IPython/core/interactiveshell.py:3361: UserWarning: in \n",
      "  if (await self.run_code(code, result,  async_=asy)):\n"
     ]
    },
    {
     "data": {
      "text/plain": [
       "NoneType"
      ]
     },
     "execution_count": 62,
     "metadata": {},
     "output_type": "execute_result"
    }
   ],
   "source": [
    "type(q.this_key_does_not_exist)"
   ]
  },
  {
   "cell_type": "markdown",
   "id": "652ea524",
   "metadata": {},
   "source": [
    "--- \n",
    "\n",
    "* `dict` keys that contain a dot, cannot be used to access the field in dot-notation mode.\n",
    "\n",
    "For example:\n"
   ]
  },
  {
   "cell_type": "code",
   "execution_count": 63,
   "id": "215b41a3",
   "metadata": {},
   "outputs": [
    {
     "name": "stderr",
     "output_type": "stream",
     "text": [
      "/tmp/ipykernel_69670/3975629951.py:3: UserWarning: no key \"a\" in this dictionary. \n",
      "valid keys are ['a.b']\n",
      "  q.a.b  # UserWarning and AttributeError - no key \"a\" in this dictionary.\n"
     ]
    },
    {
     "ename": "AttributeError",
     "evalue": "'NoneType' object has no attribute 'b'",
     "output_type": "error",
     "traceback": [
      "\u001b[0;31m---------------------------------------------------------------------------\u001b[0m",
      "\u001b[0;31mAttributeError\u001b[0m                            Traceback (most recent call last)",
      "\u001b[0;32m/tmp/ipykernel_69670/3975629951.py\u001b[0m in \u001b[0;36m<module>\u001b[0;34m\u001b[0m\n\u001b[1;32m      1\u001b[0m \u001b[0mq\u001b[0m\u001b[0;34m=\u001b[0m\u001b[0mmict\u001b[0m\u001b[0;34m(\u001b[0m\u001b[0;34m)\u001b[0m\u001b[0;34m\u001b[0m\u001b[0;34m\u001b[0m\u001b[0m\n\u001b[1;32m      2\u001b[0m \u001b[0mq\u001b[0m\u001b[0;34m[\u001b[0m\u001b[0;34m'a.b'\u001b[0m\u001b[0;34m]\u001b[0m\u001b[0;34m=\u001b[0m\u001b[0;36m3\u001b[0m\u001b[0;34m\u001b[0m\u001b[0;34m\u001b[0m\u001b[0m\n\u001b[0;32m----> 3\u001b[0;31m \u001b[0mq\u001b[0m\u001b[0;34m.\u001b[0m\u001b[0ma\u001b[0m\u001b[0;34m.\u001b[0m\u001b[0mb\u001b[0m  \u001b[0;31m# UserWarning and AttributeError - no key \"a\" in this dictionary.\u001b[0m\u001b[0;34m\u001b[0m\u001b[0;34m\u001b[0m\u001b[0m\n\u001b[0m",
      "\u001b[0;31mAttributeError\u001b[0m: 'NoneType' object has no attribute 'b'"
     ]
    }
   ],
   "source": [
    "q=mict()\n",
    "q['a.b']=3\n",
    "q.a.b  # UserWarning and AttributeError - no key \"a\" in this dictionary."
   ]
  },
  {
   "cell_type": "markdown",
   "id": "tropical-phenomenon",
   "metadata": {},
   "source": [
    "\n",
    "\n",
    "\n",
    "---\n",
    "\n",
    "## Attributions\n",
    "\n",
    "Happily copypasted from https://stackoverflow.com/questions/2352181/how-to-use-a-dot-to-access-members-of-dictionary , and modified only slightly.\n",
    "\n",
    "then, extended a bit.\n",
    "\n",
    "then, a bit more, with optional reprstyler. See the source code for `self.__repr__()`.\n",
    "\n",
    "then, extended again with advanced default reprstyler, `from_locals()`, `unpack_to_locals()`, `to_pickle()`, `from_pickle()` and `tpop()`. I am now using `mict` nearly daily and i feel it improves my results.\n",
    "\n",
    "\n",
    "## Related packages \n",
    "\n",
    "see also: \n",
    "\n",
    "https://pypi.org/project/python-box/\n",
    "\n",
    "https://github.com/drgrib/dotmap\n",
    "\n",
    "\n",
    "\n",
    "## License\n",
    "\n",
    "MIT License, Copyright (c) 2019-2021, George Rey, Paris. See LICENSE file.\n"
   ]
  },
  {
   "cell_type": "code",
   "execution_count": null,
   "id": "genetic-wireless",
   "metadata": {},
   "outputs": [],
   "source": []
  }
 ],
 "metadata": {
  "kernelspec": {
   "display_name": "Python 3 (ipykernel)",
   "language": "python",
   "name": "python3"
  },
  "language_info": {
   "codemirror_mode": {
    "name": "ipython",
    "version": 3
   },
   "file_extension": ".py",
   "mimetype": "text/x-python",
   "name": "python",
   "nbconvert_exporter": "python",
   "pygments_lexer": "ipython3",
   "version": "3.9.6"
  }
 },
 "nbformat": 4,
 "nbformat_minor": 5
}
