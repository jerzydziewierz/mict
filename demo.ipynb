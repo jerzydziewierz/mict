{
 "cells": [
  {
   "cell_type": "code",
   "execution_count": null,
   "id": "ordinary-advisory",
   "metadata": {},
   "outputs": [],
   "source": []
  },
  {
   "cell_type": "markdown",
   "id": "informed-assumption",
   "metadata": {},
   "source": [
    "# `Mict` -- middle-ground between `dict` and a `class`\n",
    "\n",
    "Provides `MATLAB`-like setting/storage of items in a dict (dictionary) and a handful of interactivity tools.\n",
    "\n",
    "`mict` is intended to be a middle ground between `dict` and full fledged `class` / `object` pattern for structured data storage.\n",
    "\n",
    "It does a bit more than basic `dict`, but does not attempt to superseede pandas, numpy nor other advanced data storage tools\n",
    "\n"
   ]
  },
  {
   "cell_type": "markdown",
   "id": "expanded-flood",
   "metadata": {},
   "source": [
    "## Installation\n",
    "\n",
    "try installing with `pip`, grabbing it straight from git:\n",
    "    \n",
    "```bash\n",
    "python -m pip install git+https://github.com/<username>/<repo_name>.git\n",
    "```"
   ]
  },
  {
   "cell_type": "markdown",
   "id": "filled-ribbon",
   "metadata": {},
   "source": [
    "## Basic usage"
   ]
  },
  {
   "cell_type": "code",
   "execution_count": 1,
   "id": "dense-pencil",
   "metadata": {},
   "outputs": [
    {
     "data": {
      "text/html": [
       "<br/><table><tr><th>key</th><th>value</th></tr><tr><td>first</td> <td> Hello world!</td> </tr>  </table>"
      ],
      "text/plain": [
       "{'reprstyler_html': <function reprstyler_basic_html at 0x0000025F0FC76310>, 'first': 'Hello world!'}"
      ]
     },
     "execution_count": 1,
     "metadata": {},
     "output_type": "execute_result"
    }
   ],
   "source": [
    "from mict import mict\n",
    "q=mict()\n",
    "q.first = 'Hello world!'\n",
    "q"
   ]
  },
  {
   "cell_type": "markdown",
   "id": "grateful-suffering",
   "metadata": {},
   "source": [
    "---\n",
    "\n",
    "the key power of mict is the ease of adding, removing, altering the contents -- and the the nice visualisation of them.\n",
    "\n",
    "You can add new keys easily, and then access them using dot-notation:"
   ]
  },
  {
   "cell_type": "code",
   "execution_count": 2,
   "id": "educated-gibraltar",
   "metadata": {},
   "outputs": [
    {
     "data": {
      "text/html": [
       "<br/><table><tr><th>key</th><th>value</th></tr><tr><td>first</td> <td> Hello world!</td> </tr> <tr><td>second</td> <td> not</td> </tr> <tr><td>third</td> <td> 3</td> </tr>  </table>"
      ],
      "text/plain": [
       "{'reprstyler_html': <function reprstyler_basic_html at 0x0000025F0FC76310>, 'first': 'Hello world!', 'second': 'not', 'third': 3}"
      ]
     },
     "execution_count": 2,
     "metadata": {},
     "output_type": "execute_result"
    }
   ],
   "source": [
    "q.second = 'not'\n",
    "q.third = 3\n",
    "q"
   ]
  },
  {
   "cell_type": "markdown",
   "id": "altered-format",
   "metadata": {},
   "source": [
    "--- \n",
    "\n",
    "The visualiser function in `mict` is called `reprstyler`.\n",
    "\n",
    "A new `mict` instance comes with the `reprstyler_html` already set to `reprstyler_basic_html` but you can, and should make your own reprstylers.\n",
    "\n",
    "example reprstyler:"
   ]
  },
  {
   "cell_type": "markdown",
   "id": "latter-grenada",
   "metadata": {},
   "source": [
    "## Convinence save and load functions using pickle\n",
    "\n",
    "methods `to_pickle` and `from_pickle` work as you would expect:"
   ]
  },
  {
   "cell_type": "code",
   "execution_count": 3,
   "id": "substantial-ultimate",
   "metadata": {},
   "outputs": [
    {
     "data": {
      "text/plain": [
       "True"
      ]
     },
     "execution_count": 3,
     "metadata": {},
     "output_type": "execute_result"
    }
   ],
   "source": [
    "q.to_pickle('demo.pickle')"
   ]
  },
  {
   "cell_type": "code",
   "execution_count": 4,
   "id": "brown-baseball",
   "metadata": {},
   "outputs": [
    {
     "data": {
      "text/html": [
       "<br/><table><tr><th>key</th><th>value</th></tr><tr><td>first</td> <td> Hello world!</td> </tr> <tr><td>second</td> <td> not</td> </tr> <tr><td>third</td> <td> 3</td> </tr>  </table>"
      ],
      "text/plain": [
       "{'reprstyler_html': <function reprstyler_basic_html at 0x0000025F0FC76310>, 'first': 'Hello world!', 'second': 'not', 'third': 3}"
      ]
     },
     "execution_count": 4,
     "metadata": {},
     "output_type": "execute_result"
    }
   ],
   "source": [
    "q=mict.from_pickle('demo.pickle')\n",
    "q"
   ]
  },
  {
   "cell_type": "markdown",
   "id": "biological-opinion",
   "metadata": {},
   "source": [
    "## Customizing the reprstyler \n",
    "\n",
    "This is the real reason why I developed mict: I wanted to have a quick and simple way to customize how the contents of the dictionary are visualized.\n",
    "    "
   ]
  },
  {
   "cell_type": "code",
   "execution_count": 5,
   "id": "enabling-forest",
   "metadata": {},
   "outputs": [
    {
     "data": {
      "text/html": [
       "baldness score: 6.280"
      ],
      "text/plain": [
       "baldness score: 6.280"
      ]
     },
     "execution_count": 5,
     "metadata": {},
     "output_type": "execute_result"
    }
   ],
   "source": [
    "from mict import mict\n",
    "def baldstyler(subject):\n",
    "    return f'baldness score: {subject.bald:0.3f}'\n",
    "\n",
    "q=mict(zap=None,bald=6.28,hidden_value1=45,reprstyler_html=None,reprstyler=baldstyler)\n",
    "\n",
    "q"
   ]
  },
  {
   "cell_type": "markdown",
   "id": "printable-addiction",
   "metadata": {},
   "source": [
    "---\n",
    "\n",
    "As everything in `mict`, the reprstyler can be changed **after** initializing the `mict` storage itself"
   ]
  },
  {
   "cell_type": "code",
   "execution_count": 6,
   "id": "practical-yemen",
   "metadata": {},
   "outputs": [
    {
     "data": {
      "text/html": [
       "keys:   zap =None; bald =6.28; hidden_value1 =45;"
      ],
      "text/plain": [
       "keys:   zap =None; bald =6.28; hidden_value1 =45;"
      ]
     },
     "execution_count": 6,
     "metadata": {},
     "output_type": "execute_result"
    }
   ],
   "source": [
    "def new_reprstyler(subject=None):\n",
    "    txt = 'keys:  '\n",
    "    for key in subject.keys():\n",
    "        if key == 'reprstyler' or key == 'reprstyler_html':  # do not list reprstyler\n",
    "            continue\n",
    "        txt = f\"{txt} {key} ={subject[key]};\"\n",
    "    return txt\n",
    "\n",
    "q.reprstyler = new_reprstyler\n",
    "q"
   ]
  },
  {
   "cell_type": "markdown",
   "id": "particular-payroll",
   "metadata": {},
   "source": [
    "then, if you want a different styler for jupyter, and a different one for text-only, you can (optionally) override the `reprstyler` with `reprstyler_html`. It will only be used if `_repr_html_` is called -- as `jupyter` first tries to call that first\n"
   ]
  },
  {
   "cell_type": "code",
   "execution_count": 7,
   "id": "disabled-walnut",
   "metadata": {},
   "outputs": [
    {
     "data": {
      "text/html": [
       "<h4>✅baldness score: 6.280</h4>"
      ],
      "text/plain": [
       "keys:   zap =None; bald =6.28; hidden_value1 =45;"
      ]
     },
     "execution_count": 7,
     "metadata": {},
     "output_type": "execute_result"
    }
   ],
   "source": [
    "def baldstyler_html(subject):\n",
    "    return f'<h4>✅baldness score: {subject.bald:0.3f}</h4>' if subject.bald>5 else f'<h4>❌not bald enough: {subject.bald:0.3f}</h4>'\n",
    "q.reprstyler_html = baldstyler_html\n",
    "q"
   ]
  },
  {
   "cell_type": "code",
   "execution_count": 8,
   "id": "derived-seating",
   "metadata": {},
   "outputs": [
    {
     "data": {
      "text/html": [
       "<h4>❌not bald enough: 3.000</h4>"
      ],
      "text/plain": [
       "keys:   zap =None; bald =3; hidden_value1 =45;"
      ]
     },
     "execution_count": 8,
     "metadata": {},
     "output_type": "execute_result"
    }
   ],
   "source": [
    "q.bald = 3\n",
    "q"
   ]
  },
  {
   "cell_type": "markdown",
   "id": "fiscal-generic",
   "metadata": {},
   "source": [
    "## An even quicker way to make a reprstyler\n",
    "\n",
    "You can use `lambda` anonymous function definition to make a reprstyler quickly.\n",
    "\n",
    "Note that reprstyler_html will display any html you give it, including images, videos, sound or javascript inserts"
   ]
  },
  {
   "cell_type": "code",
   "execution_count": 9,
   "id": "advanced-elimination",
   "metadata": {},
   "outputs": [
    {
     "data": {
      "text/html": [
       "<svg height=\"100\" width=\"100\"><circle cx=\"50\" cy=\"50\" r=\"15\" stroke=\"black\" stroke-width=\"3\" fill=\"blue\" /></svg>"
      ],
      "text/plain": [
       "{'fill': 'blue', 'r': 15, 'reprstyler_html': <function <lambda> at 0x0000025F0FCD21F0>}"
      ]
     },
     "execution_count": 9,
     "metadata": {},
     "output_type": "execute_result"
    }
   ],
   "source": [
    "q=mict(fill='blue',r=15)\n",
    "q.reprstyler_html= lambda this:f'<svg height=\"100\" width=\"100\"><circle cx=\"50\" cy=\"50\" r=\"{this.r}\" stroke=\"black\" stroke-width=\"3\" fill=\"{this.fill}\" /></svg>'\n",
    "q\n"
   ]
  },
  {
   "cell_type": "code",
   "execution_count": 10,
   "id": "answering-summer",
   "metadata": {},
   "outputs": [
    {
     "data": {
      "text/html": [
       "<svg height=\"100\" width=\"100\"><circle cx=\"50\" cy=\"50\" r=\"32\" stroke=\"black\" stroke-width=\"3\" fill=\"red\" /></svg>"
      ],
      "text/plain": [
       "{'fill': 'red', 'r': 32, 'reprstyler_html': <function <lambda> at 0x0000025F0FCD21F0>}"
      ]
     },
     "execution_count": 10,
     "metadata": {},
     "output_type": "execute_result"
    }
   ],
   "source": [
    "q.r=32\n",
    "q.fill='red'\n",
    "q"
   ]
  },
  {
   "cell_type": "code",
   "execution_count": 11,
   "id": "proper-tiger",
   "metadata": {},
   "outputs": [],
   "source": [
    "## Remove the `reprstyler` and use the default `dict` styler.\n",
    "q.reprstyler_html=None\n",
    "try:\n",
    "    q.pop('reprstyler_html')\n",
    "except:\n",
    "    pass"
   ]
  },
  {
   "cell_type": "code",
   "execution_count": 12,
   "id": "brazilian-habitat",
   "metadata": {},
   "outputs": [
    {
     "data": {
      "text/html": [
       "{'fill': 'red', 'r': 32}"
      ],
      "text/plain": [
       "{'fill': 'red', 'r': 32}"
      ]
     },
     "execution_count": 12,
     "metadata": {},
     "output_type": "execute_result"
    }
   ],
   "source": [
    "q"
   ]
  },
  {
   "cell_type": "markdown",
   "id": "attended-lambda",
   "metadata": {},
   "source": [
    "---\n",
    "\n",
    "## Note\n",
    "\n",
    "If you really feel like it, this could be extended to markdown, png, svg and other visualizers supported by jupyter.\n",
    "\n",
    "\n",
    "Importantly, you can still see the classic `dict` __repr__ function (lists all keys/values) using\n",
    "\n",
    "```python\n",
    "super(handybeam.dict,q).__repr__()\n",
    "```"
   ]
  },
  {
   "cell_type": "markdown",
   "id": "encouraging-cache",
   "metadata": {},
   "source": [
    "# Advanced uses\n",
    "\n",
    "## Show shape of big variables, instead of it's content.\n",
    "\n",
    "many of the actual research code will use numpy arrays or long lists. These are typically unwieldy to just display.\n",
    "\n",
    "`mict` provides a way to only display the shape of the numpy/tensorflow/pytorch/jax array, instead of the contents. You will find that this is often what you need displayed."
   ]
  },
  {
   "cell_type": "code",
   "execution_count": 13,
   "id": "weighted-loading",
   "metadata": {},
   "outputs": [
    {
     "data": {
      "text/html": [
       "<br/><table><tr><th>key</th><th>value</th></tr><tr><td>small_array</td> <td> np.array(shape=(5,)) </td> </tr>  </table>"
      ],
      "text/plain": [
       "{'small_array': array([1, 2, 3, 4, 5]), 'reprstyler_html': <function reprstyler_basic_html at 0x0000025F0FC76310>}"
      ]
     },
     "execution_count": 13,
     "metadata": {},
     "output_type": "execute_result"
    }
   ],
   "source": [
    "from mict import reprstyler_basic_html\n",
    "import numpy\n",
    "q=mict(small_array=numpy.array([1,2,3,4,5]))\n",
    "q"
   ]
  },
  {
   "cell_type": "code",
   "execution_count": 14,
   "id": "worldwide-consultancy",
   "metadata": {},
   "outputs": [
    {
     "data": {
      "text/html": [
       "<br/><table><tr><th>key</th><th>value</th></tr><tr><td>small_array</td> <td> np.array(shape=(5,)) </td> </tr> <tr><td>large_array</td> <td> np.array(shape=(150, 150)) </td> </tr>  </table>"
      ],
      "text/plain": [
       "{'small_array': array([1, 2, 3, 4, 5]), 'reprstyler_html': <function reprstyler_basic_html at 0x0000025F0FC76310>, 'large_array': array([[0.93884968, 0.48434117, 0.3571106 , ..., 0.7558532 , 0.77929843,\n",
       "        0.21887592],\n",
       "       [0.87785604, 0.40755966, 0.98477337, ..., 0.83989396, 0.85381181,\n",
       "        0.33566004],\n",
       "       [0.91853043, 0.80441223, 0.96672938, ..., 0.86304001, 0.39642792,\n",
       "        0.62758217],\n",
       "       ...,\n",
       "       [0.96330605, 0.77258658, 0.84259843, ..., 0.41394612, 0.07991823,\n",
       "        0.85454012],\n",
       "       [0.75883271, 0.14136172, 0.24480798, ..., 0.27166534, 0.05221429,\n",
       "        0.7150325 ],\n",
       "       [0.23182599, 0.81362428, 0.77599839, ..., 0.67125766, 0.04897627,\n",
       "        0.19560343]])}"
      ]
     },
     "execution_count": 14,
     "metadata": {},
     "output_type": "execute_result"
    }
   ],
   "source": [
    "q.large_array=numpy.random.random((150,150))\n",
    "q.reprstyler_html = reprstyler_basic_html # optional set -- this is already a default\n",
    "q"
   ]
  },
  {
   "cell_type": "markdown",
   "id": "three-helicopter",
   "metadata": {},
   "source": [
    "# Advanced uses\n",
    "\n",
    "## Capture locals from inside the function and return them in a `dict` / `mict` \n",
    "\n",
    "When developing a research function, you will often want to capture **all** the locals inside it for debug purposes. \n",
    "\n",
    "Only when stabilizing the implementation, you will want to prune the result and leave usefull return values only."
   ]
  },
  {
   "cell_type": "code",
   "execution_count": 15,
   "id": "random-ranking",
   "metadata": {},
   "outputs": [
    {
     "data": {
      "text/html": [
       "<br/><table><tr><th>key</th><th>value</th></tr><tr><td>x</td> <td> 4</td> </tr> <tr><td>y</td> <td> 2</td> </tr> <tr><td>a</td> <td> 6</td> </tr> <tr><td>c</td> <td> 48</td> </tr>  </table>"
      ],
      "text/plain": [
       "{'reprstyler_html': <function reprstyler_basic_html at 0x0000025F0FC76310>, 'x': 4, 'y': 2, 'a': 6, 'c': 48}"
      ]
     },
     "execution_count": 15,
     "metadata": {},
     "output_type": "execute_result"
    }
   ],
   "source": [
    " # define a function\n",
    "def do_maths(x=1,y=2):\n",
    "    a=x+y\n",
    "    b=a*x\n",
    "    c=b*y\n",
    "    result = mict.from_locals()  # puts `x`,`y`,`a`,`b`,`c` into `result`. \n",
    "    result.pop('b') # remove 'b' from the result\n",
    "    return result\n",
    "\n",
    "# execute that function\n",
    "demo_result = do_maths(x=4,y=2)\n",
    "\n",
    "# review function's locals\n",
    "demo_result"
   ]
  },
  {
   "cell_type": "markdown",
   "id": "remarkable-tonight",
   "metadata": {},
   "source": [
    "# Advanced uses\n",
    "\n",
    "## Nested dictionary use and special attributes\n",
    "\n",
    "note that `name` and `type` have a special meaning for the default visualizer, `reprstyler_basic_html`.\n",
    "\n",
    "Moreover, the `reprstyler_basic_html` will try to obtain html from inner (nested) `mict`s and display it in a table.\n",
    "\n",
    "Note that `reprstyler_basic_html` is merely another function from the `mict` module, and can be overridden with any other reprstyler. If `reprstyler_html` is set to `None`, the default `dict.__repr__()` is used."
   ]
  },
  {
   "cell_type": "code",
   "execution_count": 16,
   "id": "spoken-banking",
   "metadata": {},
   "outputs": [],
   "source": [
    "x=mict(name='first',type='coordinate', value=3)\n",
    "y=mict(name='second', type='coordinate', value=5)\n",
    "point=mict(type='outer <b>mict</b>',x=x,y=y)"
   ]
  },
  {
   "cell_type": "code",
   "execution_count": 17,
   "id": "incorrect-fitting",
   "metadata": {},
   "outputs": [
    {
     "data": {
      "text/html": [
       "<em>Type:</em> coordinate; <em>Name:</em> first; <br/><table><tr><th>key</th><th>value</th></tr><tr><td>value</td> <td> 3</td> </tr>  </table>"
      ],
      "text/plain": [
       "{'name': 'first', 'type': 'coordinate', 'value': 3, 'reprstyler_html': <function reprstyler_basic_html at 0x0000025F0FC76310>}"
      ]
     },
     "execution_count": 17,
     "metadata": {},
     "output_type": "execute_result"
    }
   ],
   "source": [
    "x"
   ]
  },
  {
   "cell_type": "code",
   "execution_count": 18,
   "id": "incomplete-program",
   "metadata": {},
   "outputs": [
    {
     "data": {
      "text/html": [
       "<em>Type:</em> coordinate; <em>Name:</em> second; <br/><table><tr><th>key</th><th>value</th></tr><tr><td>value</td> <td> 5</td> </tr>  </table>"
      ],
      "text/plain": [
       "{'name': 'second', 'type': 'coordinate', 'value': 5, 'reprstyler_html': <function reprstyler_basic_html at 0x0000025F0FC76310>}"
      ]
     },
     "execution_count": 18,
     "metadata": {},
     "output_type": "execute_result"
    }
   ],
   "source": [
    "y"
   ]
  },
  {
   "cell_type": "code",
   "execution_count": 19,
   "id": "turkish-facing",
   "metadata": {},
   "outputs": [
    {
     "data": {
      "text/html": [
       "<em>Type:</em> outer <b>mict</b>; <br/><table><tr><th>key</th><th>value</th></tr><tr><td>x</td><td><em>Type:</em> coordinate; <em>Name:</em> first; <br/><table><tr><th>key</th><th>value</th></tr><tr><td>value</td> <td> 3</td> </tr>  </table></td> </tr> <tr><td>y</td><td><em>Type:</em> coordinate; <em>Name:</em> second; <br/><table><tr><th>key</th><th>value</th></tr><tr><td>value</td> <td> 5</td> </tr>  </table></td> </tr>  </table>"
      ],
      "text/plain": [
       "{'type': 'outer <b>mict</b>', 'x': {'name': 'first', 'type': 'coordinate', 'value': 3, 'reprstyler_html': <function reprstyler_basic_html at 0x0000025F0FC76310>}, 'y': {'name': 'second', 'type': 'coordinate', 'value': 5, 'reprstyler_html': <function reprstyler_basic_html at 0x0000025F0FC76310>}, 'reprstyler_html': <function reprstyler_basic_html at 0x0000025F0FC76310>}"
      ]
     },
     "execution_count": 19,
     "metadata": {},
     "output_type": "execute_result"
    }
   ],
   "source": [
    "point"
   ]
  },
  {
   "cell_type": "code",
   "execution_count": 20,
   "id": "extraordinary-transcript",
   "metadata": {},
   "outputs": [
    {
     "data": {
      "text/plain": [
       "'<em>Type:</em> outer <b>mict</b>; <br/><table><tr><th>key</th><th>value</th></tr><tr><td>x</td><td><em>Type:</em> coordinate; <em>Name:</em> first; <br/><table><tr><th>key</th><th>value</th></tr><tr><td>value</td> <td> 3</td> </tr>  </table></td> </tr> <tr><td>y</td><td><em>Type:</em> coordinate; <em>Name:</em> second; <br/><table><tr><th>key</th><th>value</th></tr><tr><td>value</td> <td> 5</td> </tr>  </table></td> </tr>  </table>'"
      ]
     },
     "execution_count": 20,
     "metadata": {},
     "output_type": "execute_result"
    }
   ],
   "source": [
    "v=point._repr_html_()\n",
    "v"
   ]
  },
  {
   "cell_type": "code",
   "execution_count": 21,
   "id": "stopped-employer",
   "metadata": {},
   "outputs": [],
   "source": [
    "point.reprstyler_html=None"
   ]
  },
  {
   "cell_type": "code",
   "execution_count": 22,
   "id": "linear-retreat",
   "metadata": {},
   "outputs": [
    {
     "data": {
      "text/html": [
       "{'type': 'outer <b>mict</b>', 'x': {'name': 'first', 'type': 'coordinate', 'value': 3, 'reprstyler_html': <function reprstyler_basic_html at 0x0000025F0FC76310>}, 'y': {'name': 'second', 'type': 'coordinate', 'value': 5, 'reprstyler_html': <function reprstyler_basic_html at 0x0000025F0FC76310>}, 'reprstyler_html': None}"
      ],
      "text/plain": [
       "{'type': 'outer <b>mict</b>', 'x': {'name': 'first', 'type': 'coordinate', 'value': 3, 'reprstyler_html': <function reprstyler_basic_html at 0x0000025F0FC76310>}, 'y': {'name': 'second', 'type': 'coordinate', 'value': 5, 'reprstyler_html': <function reprstyler_basic_html at 0x0000025F0FC76310>}, 'reprstyler_html': None}"
      ]
     },
     "execution_count": 22,
     "metadata": {},
     "output_type": "execute_result"
    }
   ],
   "source": [
    "point"
   ]
  },
  {
   "cell_type": "code",
   "execution_count": 23,
   "id": "inside-dream",
   "metadata": {},
   "outputs": [
    {
     "data": {
      "text/plain": [
       "True"
      ]
     },
     "execution_count": 23,
     "metadata": {},
     "output_type": "execute_result"
    }
   ],
   "source": [
    "isinstance(point,mict)"
   ]
  },
  {
   "cell_type": "markdown",
   "id": "fewer-provider",
   "metadata": {},
   "source": [
    "## More examples"
   ]
  },
  {
   "cell_type": "code",
   "execution_count": 24,
   "id": "current-biology",
   "metadata": {},
   "outputs": [
    {
     "data": {
      "text/html": [
       "<br/><table><tr><th>key</th><th>value</th></tr><tr><td>title</td> <td> some title</td> </tr> <tr><td>subtitle</td> <td> some subtitle</td> </tr> <tr><td>interesting_integer</td> <td> 3</td> </tr> <tr><td>interesting_float</td> <td> 6.283185307179586</td> </tr> <tr><td>big_array</td> <td> np.array(shape=(200, 250)) </td> </tr>  </table>"
      ],
      "text/plain": [
       "{'title': 'some title', 'subtitle': 'some subtitle', 'interesting_integer': 3, 'interesting_float': 6.283185307179586, 'big_array': array([[0.07583093, 0.33780706, 0.67988526, ..., 0.94300004, 0.50024432,\n",
       "        0.36340168],\n",
       "       [0.18461214, 0.1081414 , 0.93706255, ..., 0.67628238, 0.58659376,\n",
       "        0.82095228],\n",
       "       [0.41257446, 0.90728503, 0.62541907, ..., 0.96491358, 0.75333697,\n",
       "        0.64077805],\n",
       "       ...,\n",
       "       [0.88037301, 0.42941425, 0.78278868, ..., 0.83850935, 0.39884005,\n",
       "        0.52610598],\n",
       "       [0.73221188, 0.23646833, 0.30012481, ..., 0.23304784, 0.27011148,\n",
       "        0.75231566],\n",
       "       [0.82779937, 0.40840516, 0.60327202, ..., 0.76987081, 0.26105735,\n",
       "        0.79880112]]), 'reprstyler_html': <function reprstyler_basic_html at 0x0000025F0FC76310>}"
      ]
     },
     "execution_count": 24,
     "metadata": {},
     "output_type": "execute_result"
    }
   ],
   "source": [
    "from mict import mict\n",
    "import numpy\n",
    "import math\n",
    "q=mict(title=\"some title\",subtitle=\"some subtitle\",interesting_integer = 3,interesting_float = math.tau,  big_array=numpy.random.random((200,250)))\n",
    "q"
   ]
  },
  {
   "cell_type": "code",
   "execution_count": 34,
   "id": "incorporated-spanish",
   "metadata": {},
   "outputs": [
    {
     "data": {
      "text/html": [
       "<h1>some title</h1><h2>some subtitle</h2><p>interesting integer:0003</p><p>interesting float:6.283</p><p>some stats: this.big_array.std()=0.2897</p><hr/>"
      ],
      "text/plain": [
       "{'title': 'some title', 'subtitle': 'some subtitle', 'interesting_integer': 3, 'interesting_float': 6.283185307179586, 'big_array': array([[0.07583093, 0.33780706, 0.67988526, ..., 0.94300004, 0.50024432,\n",
       "        0.36340168],\n",
       "       [0.18461214, 0.1081414 , 0.93706255, ..., 0.67628238, 0.58659376,\n",
       "        0.82095228],\n",
       "       [0.41257446, 0.90728503, 0.62541907, ..., 0.96491358, 0.75333697,\n",
       "        0.64077805],\n",
       "       ...,\n",
       "       [0.88037301, 0.42941425, 0.78278868, ..., 0.83850935, 0.39884005,\n",
       "        0.52610598],\n",
       "       [0.73221188, 0.23646833, 0.30012481, ..., 0.23304784, 0.27011148,\n",
       "        0.75231566],\n",
       "       [0.82779937, 0.40840516, 0.60327202, ..., 0.76987081, 0.26105735,\n",
       "        0.79880112]]), 'reprstyler_html': <function custom_html_styler at 0x0000025F0FCD2160>}"
      ]
     },
     "execution_count": 34,
     "metadata": {},
     "output_type": "execute_result"
    }
   ],
   "source": [
    "def custom_html_styler(this):\n",
    "    output = f'<h1>{this.title}</h1>'\n",
    "    output = f'{output}<h2>{this.subtitle}</h2>'\n",
    "    output = f'{output}<p>interesting integer:{this.interesting_integer:04d}</p>'\n",
    "    output = f'{output}<p>interesting float:{this.interesting_float:0.{this.interesting_integer}f}</p>'\n",
    "    output = f'{output}<p>some stats: {this.big_array.std()=:0.4f}</p>'\n",
    "    output = f'{output}<hr/>'\n",
    "    return output\n",
    "\n",
    "q.reprstyler_html = custom_html_styler\n",
    "q"
   ]
  },
  {
   "cell_type": "code",
   "execution_count": 31,
   "id": "recognized-pittsburgh",
   "metadata": {},
   "outputs": [
    {
     "data": {
      "text/plain": [
       "0.28973528718908237"
      ]
     },
     "execution_count": 31,
     "metadata": {},
     "output_type": "execute_result"
    }
   ],
   "source": [
    "q.big_array.std()"
   ]
  },
  {
   "cell_type": "markdown",
   "id": "tropical-phenomenon",
   "metadata": {},
   "source": [
    "## Gotchas\n",
    "\n",
    "* `mict` does not throw an error when trying to access undefined field. Instead, it returns `None`\n",
    "\n",
    "\n",
    "## Attributions\n",
    "\n",
    "Happily copypasted from https://stackoverflow.com/questions/2352181/how-to-use-a-dot-to-access-members-of-dictionary , and modified only slightly.\n",
    "\n",
    "then, extended a bit.\n",
    "\n",
    "then, a bit more, with optional reprstyler. See the source code for `self.__repr__()`.\n",
    "\n",
    "\n",
    "## Related packages \n",
    "\n",
    "see also: \n",
    "\n",
    "https://pypi.org/project/python-box/\n",
    "\n",
    "\n",
    "## License\n",
    "\n",
    "MIT License, Copyright (c) 2017-2020 Chris Griffith. See LICENSE file.\n"
   ]
  },
  {
   "cell_type": "code",
   "execution_count": null,
   "id": "genetic-wireless",
   "metadata": {},
   "outputs": [],
   "source": []
  }
 ],
 "metadata": {
  "kernelspec": {
   "display_name": "Python 3",
   "language": "python",
   "name": "python3"
  },
  "language_info": {
   "codemirror_mode": {
    "name": "ipython",
    "version": 3
   },
   "file_extension": ".py",
   "mimetype": "text/x-python",
   "name": "python",
   "nbconvert_exporter": "python",
   "pygments_lexer": "ipython3",
   "version": "3.8.5"
  }
 },
 "nbformat": 4,
 "nbformat_minor": 5
}
