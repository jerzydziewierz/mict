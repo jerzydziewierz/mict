{
 "cells": [
  {
   "cell_type": "markdown",
   "id": "informed-assumption",
   "metadata": {},
   "source": [
    "# `Mict` -- middle-ground between `dict` and a `class`\n",
    "\n",
    "Provides `MATLAB`-like setting/storage of items in a dict (dictionary) and a handful of interactivity tools.\n",
    "\n",
    "`mict` is intended to be a middle ground between `dict` and full fledged `class` / `object` pattern for structured data storage.\n",
    "\n",
    "It does a bit more than basic `dict`, but does not attempt to superseede pandas, numpy nor other advanced data storage tools\n",
    "\n"
   ]
  },
  {
   "cell_type": "markdown",
   "id": "expanded-flood",
   "metadata": {},
   "source": [
    "## Installation\n",
    "\n",
    "try installing with `pip`, grabbing it straight from git:\n",
    "    \n",
    "```bash\n",
    "python -m pip install git+https://github.com/<username>/<repo_name>.git\n",
    "```\n",
    "\n",
    "e.g.\n",
    "```bash\n",
    "python -m pip install -U git+https://github.com/jerzydziewierz/mict.git#egg=mict\n",
    "```"
   ]
  },
  {
   "cell_type": "code",
   "execution_count": 1,
   "id": "9668d56e",
   "metadata": {},
   "outputs": [
    {
     "name": "stdout",
     "output_type": "stream",
     "text": [
      "Collecting mict\n",
      "  Cloning https://github.com/jerzydziewierz/mict.git to /tmp/pip-install-z8d3bmqp/mict\n",
      "  Installing build dependencies ... \u001b[?25ldone\n",
      "\u001b[?25h  Getting requirements to build wheel ... \u001b[?25ldone\n",
      "\u001b[?25h    Preparing wheel metadata ... \u001b[?25ldone\n",
      "\u001b[?25hRequirement already satisfied, skipping upgrade: requests in /home/mib07150/.local/lib/python3.8/site-packages (from mict) (2.26.0)\n",
      "Requirement already satisfied, skipping upgrade: charset-normalizer~=2.0.0; python_version >= \"3\" in /home/mib07150/.local/lib/python3.8/site-packages (from requests->mict) (2.0.4)\n",
      "Requirement already satisfied, skipping upgrade: certifi>=2017.4.17 in /home/mib07150/.conda/envs/dibeam/lib/python3.8/site-packages (from requests->mict) (2020.12.5)\n",
      "Requirement already satisfied, skipping upgrade: urllib3<1.27,>=1.21.1 in /home/mib07150/.conda/envs/dibeam/lib/python3.8/site-packages (from requests->mict) (1.25.11)\n",
      "Requirement already satisfied, skipping upgrade: idna<4,>=2.5; python_version >= \"3\" in /home/mib07150/.conda/envs/dibeam/lib/python3.8/site-packages (from requests->mict) (2.10)\n",
      "Building wheels for collected packages: mict\n",
      "  Building wheel for mict (PEP 517) ... \u001b[?25ldone\n",
      "\u001b[?25h  Created wheel for mict: filename=mict-0.0-py3-none-any.whl size=7089 sha256=f37eece67af147edca07ecde15d2d0b9e3c0b54eb21bd0c2457aa9343a888f2e\n",
      "  Stored in directory: /tmp/pip-ephem-wheel-cache-fhmt8gkd/wheels/82/c6/07/6516c4cdd334dd58b244c157cb315022f95530028e5c9e9aad\n",
      "Successfully built mict\n",
      "Installing collected packages: mict\n",
      "Successfully installed mict-0.0\n"
     ]
    }
   ],
   "source": [
    "!python -m pip install -U git+https://github.com/jerzydziewierz/mict.git#egg=mict"
   ]
  },
  {
   "cell_type": "markdown",
   "id": "filled-ribbon",
   "metadata": {},
   "source": [
    "## Basic usage"
   ]
  },
  {
   "cell_type": "code",
   "execution_count": 1,
   "id": "dense-pencil",
   "metadata": {},
   "outputs": [
    {
     "data": {
      "text/html": [
       "<br/><table><tr><th>key</th><th>value</th></tr><tr><td>first</td> <td> Hello world!</td> </tr>  </table>"
      ],
      "text/plain": [
       "{'first': 'Hello world!'}"
      ]
     },
     "execution_count": 1,
     "metadata": {},
     "output_type": "execute_result"
    }
   ],
   "source": [
    "from mict import mict\n",
    "q=mict()\n",
    "q.first = 'Hello world!'\n",
    "q"
   ]
  },
  {
   "cell_type": "markdown",
   "id": "grateful-suffering",
   "metadata": {},
   "source": [
    "---\n",
    "\n",
    "the key power of mict is the ease of adding, removing, altering the contents -- and the the nice visualisation of them.\n",
    "\n",
    "You can add new keys easily, and then access them using dot-notation:"
   ]
  },
  {
   "cell_type": "code",
   "execution_count": 2,
   "id": "337c7516",
   "metadata": {},
   "outputs": [
    {
     "data": {
      "text/html": [
       "<br/><table><tr><th>key</th><th>value</th></tr><tr><td>first</td> <td> Hello world!</td> </tr> <tr><td>third</td> <td> 3</td> </tr>  </table>"
      ],
      "text/plain": [
       "{'first': 'Hello world!', 'third': 3}"
      ]
     },
     "execution_count": 2,
     "metadata": {},
     "output_type": "execute_result"
    }
   ],
   "source": [
    "q.third = 3\n",
    "q"
   ]
  },
  {
   "cell_type": "markdown",
   "id": "b28c04fb",
   "metadata": {},
   "source": [
    "You can store functions and call them. `mict` attempts to display the signature of the function for you. "
   ]
  },
  {
   "cell_type": "code",
   "execution_count": 3,
   "id": "educated-gibraltar",
   "metadata": {},
   "outputs": [
    {
     "data": {
      "text/html": [
       "<br/><table><tr><th>key</th><th>value</th></tr><tr><td>first</td> <td> Hello world!</td> </tr> <tr><td>third</td> <td> 3</td> </tr> <tr><td>add</td><td> <code>add(q,y)</code></td> </tr>  </table>"
      ],
      "text/plain": [
       "{'first': 'Hello world!', 'third': 3, 'add': <function _some_fn at 0x7f5bd866f3a0>}"
      ]
     },
     "execution_count": 3,
     "metadata": {},
     "output_type": "execute_result"
    }
   ],
   "source": [
    "def _some_fn(q,y):\n",
    "    return q.third+y \n",
    "q.add = _some_fn \n",
    "q"
   ]
  },
  {
   "cell_type": "markdown",
   "id": "59f11980",
   "metadata": {},
   "source": [
    "call the function from inside the `mict`, that operates on that mict:"
   ]
  },
  {
   "cell_type": "code",
   "execution_count": 4,
   "id": "89be2544",
   "metadata": {},
   "outputs": [
    {
     "data": {
      "text/plain": [
       "5"
      ]
     },
     "execution_count": 4,
     "metadata": {},
     "output_type": "execute_result"
    }
   ],
   "source": [
    "q.add(q,2)"
   ]
  },
  {
   "cell_type": "markdown",
   "id": "altered-format",
   "metadata": {},
   "source": [
    "--- \n",
    "\n",
    "The visualiser function in `mict` is called `reprstyler`.\n",
    "\n",
    "A new `mict` instance comes with the `reprstyler_html` already set to `reprstyler_basic_html` but you can, and should make your own reprstylers.\n",
    "\n",
    "example reprstyler:"
   ]
  },
  {
   "cell_type": "code",
   "execution_count": null,
   "id": "5f770134",
   "metadata": {},
   "outputs": [],
   "source": []
  },
  {
   "cell_type": "markdown",
   "id": "latter-grenada",
   "metadata": {},
   "source": [
    "## Convinence save and load functions using pickle\n",
    "\n",
    "methods `to_pickle` and `from_pickle` work as you would expect:"
   ]
  },
  {
   "cell_type": "code",
   "execution_count": 5,
   "id": "substantial-ultimate",
   "metadata": {},
   "outputs": [
    {
     "data": {
      "text/plain": [
       "True"
      ]
     },
     "execution_count": 5,
     "metadata": {},
     "output_type": "execute_result"
    }
   ],
   "source": [
    "q.to_pickle('demo.pickle')"
   ]
  },
  {
   "cell_type": "code",
   "execution_count": 6,
   "id": "brown-baseball",
   "metadata": {},
   "outputs": [
    {
     "data": {
      "text/html": [
       "<br/><table><tr><th>key</th><th>value</th></tr><tr><td>first</td> <td> Hello world!</td> </tr> <tr><td>third</td> <td> 3</td> </tr> <tr><td>add</td><td> <code>add(q,y)</code></td> </tr>  </table>"
      ],
      "text/plain": [
       "{'first': 'Hello world!', 'third': 3, 'add': <function _some_fn at 0x7f5bd866f3a0>}"
      ]
     },
     "execution_count": 6,
     "metadata": {},
     "output_type": "execute_result"
    }
   ],
   "source": [
    "q=mict.from_pickle('demo.pickle')\n",
    "q"
   ]
  },
  {
   "cell_type": "markdown",
   "id": "biological-opinion",
   "metadata": {},
   "source": [
    "## Customizing the reprstyler \n",
    "\n",
    "This is the real reason why I developed mict: I wanted to have a quick and simple way to customize how the contents of the dictionary are visualized.\n",
    "    "
   ]
  },
  {
   "cell_type": "code",
   "execution_count": 7,
   "id": "enabling-forest",
   "metadata": {},
   "outputs": [
    {
     "data": {
      "text/html": [
       "<br/><table><tr><th>key</th><th>value</th></tr><tr><td>zap</td> <td> None </td> </tr> <tr><td>mickie</td> <td> 6.28</td> </tr> <tr><td>hidden_value1</td> <td> 45</td> </tr>  </table>"
      ],
      "text/plain": [
       "{'zap': None, 'mickie': 6.28, 'hidden_value1': 45}"
      ]
     },
     "execution_count": 7,
     "metadata": {},
     "output_type": "execute_result"
    }
   ],
   "source": [
    "from mict import mict\n",
    "def mickiestyler(self):\n",
    "    return f'mickie score: {self.mickie:0.3f}'\n",
    "\n",
    "q=mict(zap=None,mickie=6.28,hidden_value1=45)\n",
    "q"
   ]
  },
  {
   "cell_type": "code",
   "execution_count": 8,
   "id": "62fb1264",
   "metadata": {},
   "outputs": [
    {
     "data": {
      "text/html": [
       "mickie score: 6.280"
      ],
      "text/plain": [
       "{'zap': None, 'mickie': 6.28, 'hidden_value1': 45, 'reprstyler_html': <function mickiestyler at 0x7f5bc8040700>}"
      ]
     },
     "execution_count": 8,
     "metadata": {},
     "output_type": "execute_result"
    }
   ],
   "source": [
    "q.reprstyler_html = mickiestyler\n",
    "q"
   ]
  },
  {
   "cell_type": "code",
   "execution_count": 9,
   "id": "5f5135da",
   "metadata": {},
   "outputs": [
    {
     "data": {
      "text/html": [
       "{'zap': None, 'mickie': 6.28, 'hidden_value1': 45, 'reprstyler_html': None}"
      ],
      "text/plain": [
       "{'zap': None, 'mickie': 6.28, 'hidden_value1': 45, 'reprstyler_html': None}"
      ]
     },
     "execution_count": 9,
     "metadata": {},
     "output_type": "execute_result"
    }
   ],
   "source": [
    "q.reprstyler_html = None\n",
    "q"
   ]
  },
  {
   "cell_type": "markdown",
   "id": "printable-addiction",
   "metadata": {},
   "source": [
    "---\n",
    "\n",
    "Even tough you should strive to make all your objects functional and immutable in general, for development purposes it is convenient to mutate your objects sometimes. The reprstyler can be changed **after** initializing the `mict` storage itself"
   ]
  },
  {
   "cell_type": "code",
   "execution_count": 10,
   "id": "practical-yemen",
   "metadata": {},
   "outputs": [
    {
     "data": {
      "text/html": [
       "keys:   zap =None; mickie =6.28; hidden_value1 =45; reprstyler_html =<function new_reprstyler at 0x7f5bc80475e0>;"
      ],
      "text/plain": [
       "{'zap': None, 'mickie': 6.28, 'hidden_value1': 45, 'reprstyler_html': <function new_reprstyler at 0x7f5bc80475e0>}"
      ]
     },
     "execution_count": 10,
     "metadata": {},
     "output_type": "execute_result"
    }
   ],
   "source": [
    "def new_reprstyler(subject=None):\n",
    "    txt = 'keys:  '\n",
    "    for key in subject.keys():\n",
    "        txt = f\"{txt} {key} ={subject[key]};\"\n",
    "    return txt\n",
    "\n",
    "q.reprstyler_html = new_reprstyler\n",
    "q"
   ]
  },
  {
   "cell_type": "code",
   "execution_count": null,
   "id": "e3a60d73",
   "metadata": {},
   "outputs": [],
   "source": []
  },
  {
   "cell_type": "markdown",
   "id": "particular-payroll",
   "metadata": {},
   "source": [
    "then, if you want a different styler for jupyter, and a different one for text-only, you can (optionally) override the `reprstyler` with `reprstyler_html`. It will only be used if `_repr_html_` is called -- as `jupyter` first tries to call that first\n"
   ]
  },
  {
   "cell_type": "code",
   "execution_count": 11,
   "id": "disabled-walnut",
   "metadata": {},
   "outputs": [
    {
     "data": {
      "text/html": [
       "<h4>✅mickie score: 6.280</h4>"
      ],
      "text/plain": [
       "{'zap': None, 'mickie': 6.28, 'hidden_value1': 45, 'reprstyler_html': <function baldstyler_html at 0x7f5bc80478b0>}"
      ]
     },
     "execution_count": 11,
     "metadata": {},
     "output_type": "execute_result"
    }
   ],
   "source": [
    "def baldstyler_html(subject):\n",
    "    return f'<h4>✅mickie score: {subject.mickie:0.3f}</h4>' if subject.mickie>5 else f'<h4>❌not mickie enough: {subject.mickie:0.3f}</h4>'\n",
    "q.reprstyler_html = baldstyler_html\n",
    "q"
   ]
  },
  {
   "cell_type": "code",
   "execution_count": 12,
   "id": "9435bd48",
   "metadata": {},
   "outputs": [
    {
     "data": {
      "text/html": [
       "<h4>❌not mickie enough: 3.000</h4>"
      ],
      "text/plain": [
       "{'zap': None, 'mickie': 3, 'hidden_value1': 45, 'reprstyler_html': <function baldstyler_html at 0x7f5bc80478b0>}"
      ]
     },
     "execution_count": 12,
     "metadata": {},
     "output_type": "execute_result"
    }
   ],
   "source": [
    "q.mickie = 3\n",
    "q"
   ]
  },
  {
   "cell_type": "code",
   "execution_count": 13,
   "id": "0fb39e8a",
   "metadata": {},
   "outputs": [
    {
     "data": {
      "text/plain": [
       "<function __main__.baldstyler_html(subject)>"
      ]
     },
     "execution_count": 13,
     "metadata": {},
     "output_type": "execute_result"
    }
   ],
   "source": [
    "q.reprstyler_html"
   ]
  },
  {
   "cell_type": "markdown",
   "id": "fiscal-generic",
   "metadata": {},
   "source": [
    "## An even quicker way to make a reprstyler\n",
    "\n",
    "You can use `lambda` anonymous function definition to make a reprstyler quickly.\n",
    "\n",
    "Note that reprstyler_html will display any html you give it, including images, videos, sound or javascript inserts"
   ]
  },
  {
   "cell_type": "code",
   "execution_count": 14,
   "id": "advanced-elimination",
   "metadata": {},
   "outputs": [
    {
     "data": {
      "text/html": [
       "<svg height=\"100\" width=\"100\"><circle cx=\"50\" cy=\"50\" r=\"15\" stroke=\"black\" stroke-width=\"3\" fill=\"blue\" /></svg>"
      ],
      "text/plain": [
       "{'fill': 'blue', 'r': 15, 'reprstyler_html': <function <lambda> at 0x7f5bc8051310>}"
      ]
     },
     "execution_count": 14,
     "metadata": {},
     "output_type": "execute_result"
    }
   ],
   "source": [
    "q=mict(fill='blue',r=15)\n",
    "q.reprstyler_html= lambda this:f'<svg height=\"100\" width=\"100\"><circle cx=\"50\" cy=\"50\" r=\"{this.r}\" stroke=\"black\" stroke-width=\"3\" fill=\"{this.fill}\" /></svg>'\n",
    "q\n"
   ]
  },
  {
   "cell_type": "code",
   "execution_count": 15,
   "id": "answering-summer",
   "metadata": {},
   "outputs": [
    {
     "data": {
      "text/html": [
       "<svg height=\"100\" width=\"100\"><circle cx=\"50\" cy=\"50\" r=\"32\" stroke=\"black\" stroke-width=\"3\" fill=\"red\" /></svg>"
      ],
      "text/plain": [
       "{'fill': 'red', 'r': 32, 'reprstyler_html': <function <lambda> at 0x7f5bc8051310>}"
      ]
     },
     "execution_count": 15,
     "metadata": {},
     "output_type": "execute_result"
    }
   ],
   "source": [
    "q.r=32\n",
    "q.fill='red'\n",
    "q"
   ]
  },
  {
   "cell_type": "markdown",
   "id": "be565436",
   "metadata": {},
   "source": [
    "Remove the `reprstyler` and use the default `dict` styler.\n",
    "\n",
    "use the `tpop` method which is equivalent to `try pop(); except pass` - hence does not throw exception on no key present"
   ]
  },
  {
   "cell_type": "code",
   "execution_count": 16,
   "id": "proper-tiger",
   "metadata": {},
   "outputs": [
    {
     "data": {
      "text/html": [
       "{'fill': 'red', 'reprstyler_html': None}"
      ],
      "text/plain": [
       "{'fill': 'red', 'reprstyler_html': None}"
      ]
     },
     "execution_count": 16,
     "metadata": {},
     "output_type": "execute_result"
    }
   ],
   "source": [
    "\n",
    "q.reprstyler_html=None\n",
    "q.tpop('reprstyler_html')"
   ]
  },
  {
   "cell_type": "code",
   "execution_count": 17,
   "id": "brazilian-habitat",
   "metadata": {},
   "outputs": [
    {
     "data": {
      "text/html": [
       "{'fill': 'red', 'reprstyler_html': None}"
      ],
      "text/plain": [
       "{'fill': 'red', 'reprstyler_html': None}"
      ]
     },
     "execution_count": 17,
     "metadata": {},
     "output_type": "execute_result"
    }
   ],
   "source": [
    "q"
   ]
  },
  {
   "cell_type": "markdown",
   "id": "attended-lambda",
   "metadata": {},
   "source": [
    "---\n",
    "\n",
    "## Note\n",
    "\n",
    "If you really feel like it, this could be extended to markdown, png, svg and other visualizers supported by jupyter.\n",
    "\n",
    "\n",
    "Importantly, you can still see the classic `dict` __repr__ function (lists all keys/values) using\n",
    "\n",
    "```python\n",
    "super(handybeam.dict,q).__repr__()\n",
    "```"
   ]
  },
  {
   "cell_type": "markdown",
   "id": "encouraging-cache",
   "metadata": {},
   "source": [
    "# Advanced uses\n",
    "\n",
    "## Show shape of big variables, instead of it's content.\n",
    "\n",
    "many of the actual research code will use numpy arrays or long lists. These are typically unwieldy to just display.\n",
    "\n",
    "`mict` provides a way to only display the shape of the numpy/tensorflow/pytorch/jax array, instead of the contents. You will find that this is often what you need displayed."
   ]
  },
  {
   "cell_type": "code",
   "execution_count": 18,
   "id": "weighted-loading",
   "metadata": {},
   "outputs": [
    {
     "data": {
      "text/html": [
       "<br/><table><tr><th>key</th><th>value</th></tr><tr><td>small_array</td> <td> np.array(shape=(5,)) </td> </tr>  </table>"
      ],
      "text/plain": [
       "{'small_array': array([1, 2, 3, 4, 5])}"
      ]
     },
     "execution_count": 18,
     "metadata": {},
     "output_type": "execute_result"
    }
   ],
   "source": [
    "from mict import reprstyler_basic_html\n",
    "import numpy\n",
    "q=mict(small_array=numpy.array([1,2,3,4,5]))\n",
    "q"
   ]
  },
  {
   "cell_type": "code",
   "execution_count": 19,
   "id": "worldwide-consultancy",
   "metadata": {},
   "outputs": [
    {
     "data": {
      "text/html": [
       "<br/><table><tr><th>key</th><th>value</th></tr><tr><td>small_array</td> <td> np.array(shape=(5,)) </td> </tr> <tr><td>large_array</td> <td> np.array(shape=(150, 150)) </td> </tr>  </table>"
      ],
      "text/plain": [
       "{'small_array': array([1, 2, 3, 4, 5]), 'large_array': array([[0.23485432, 0.39422553, 0.91939382, ..., 0.18627544, 0.18591474,\n",
       "        0.1255524 ],\n",
       "       [0.39939837, 0.06866591, 0.33325814, ..., 0.89896969, 0.18527282,\n",
       "        0.39759536],\n",
       "       [0.59454954, 0.54324838, 0.37998044, ..., 0.89938401, 0.35342148,\n",
       "        0.8673421 ],\n",
       "       ...,\n",
       "       [0.16967928, 0.04995289, 0.65639804, ..., 0.88026585, 0.93196106,\n",
       "        0.00346298],\n",
       "       [0.75191458, 0.16341486, 0.92293024, ..., 0.33408493, 0.08807428,\n",
       "        0.66234146],\n",
       "       [0.03286196, 0.945499  , 0.33048752, ..., 0.7712824 , 0.25260477,\n",
       "        0.99801917]]), 'reprstyler_html': <function reprstyler_basic_html at 0x7f5bc802bd30>}"
      ]
     },
     "execution_count": 19,
     "metadata": {},
     "output_type": "execute_result"
    }
   ],
   "source": [
    "q.large_array=numpy.random.random((150,150))\n",
    "q.reprstyler_html = reprstyler_basic_html # optional set -- this is already a default\n",
    "q"
   ]
  },
  {
   "cell_type": "markdown",
   "id": "three-helicopter",
   "metadata": {},
   "source": [
    "# Advanced uses\n",
    "\n",
    "## Capture locals from inside the function and return them in a `dict` / `mict` \n",
    "\n",
    "When developing a research function, you will often want to capture **all** the locals inside it for debug purposes. \n",
    "\n",
    "Only when stabilizing the implementation, you will want to prune the result and leave usefull return values only."
   ]
  },
  {
   "cell_type": "code",
   "execution_count": 20,
   "id": "random-ranking",
   "metadata": {},
   "outputs": [
    {
     "data": {
      "text/html": [
       "<br/><table><tr><th>key</th><th>value</th></tr><tr><td>x</td> <td> 4</td> </tr> <tr><td>y</td> <td> 2</td> </tr> <tr><td>a</td> <td> 6</td> </tr> <tr><td>c</td> <td> 48</td> </tr>  </table>"
      ],
      "text/plain": [
       "{'x': 4, 'y': 2, 'a': 6, 'c': 48, 'reprstyler_html': <function reprstyler_basic_html at 0x7f5bc802bd30>}"
      ]
     },
     "execution_count": 20,
     "metadata": {},
     "output_type": "execute_result"
    }
   ],
   "source": [
    " # define a function\n",
    "def do_maths(x=1,y=2):\n",
    "    a=x+y\n",
    "    b=a*x\n",
    "    c=b*y\n",
    "    result = mict.from_locals()  # puts `x`,`y`,`a`,`b`,`c` into `result`. \n",
    "    result.pop('b') # remove 'b' from the result\n",
    "    return result\n",
    "\n",
    "# execute that function\n",
    "demo_result = do_maths(x=4,y=2)\n",
    "\n",
    "# review function's locals\n",
    "demo_result"
   ]
  },
  {
   "cell_type": "markdown",
   "id": "10645fd8",
   "metadata": {},
   "source": [
    "> Danger zone : this will overwrite your locals, and may lead to crazy results if something crazy was stored in the mict.\n",
    "\n",
    "load the variables from the mict back into locals."
   ]
  },
  {
   "cell_type": "code",
   "execution_count": 21,
   "id": "12e580c7",
   "metadata": {},
   "outputs": [
    {
     "data": {
      "text/plain": [
       "4"
      ]
     },
     "execution_count": 21,
     "metadata": {},
     "output_type": "execute_result"
    }
   ],
   "source": [
    "demo_result.unpack_to_locals()\n",
    "x"
   ]
  },
  {
   "cell_type": "code",
   "execution_count": 22,
   "id": "ff46a122",
   "metadata": {},
   "outputs": [
    {
     "data": {
      "text/plain": [
       "2"
      ]
     },
     "execution_count": 22,
     "metadata": {},
     "output_type": "execute_result"
    }
   ],
   "source": [
    "y"
   ]
  },
  {
   "cell_type": "markdown",
   "id": "remarkable-tonight",
   "metadata": {},
   "source": [
    "# Advanced uses\n",
    "\n",
    "## Nested dictionary use and special attributes\n",
    "\n",
    "note that `name` and `type` have a special meaning for the default visualizer, `reprstyler_basic_html`.\n",
    "\n",
    "Moreover, the `reprstyler_basic_html` will try to obtain html from inner (nested) `mict`s and display it in a table.\n",
    "\n",
    "Note that `reprstyler_basic_html` is merely another function from the `mict` module, and can be overridden with any other reprstyler. If `reprstyler_html` is set to `None`, the default `dict.__repr__()` is used."
   ]
  },
  {
   "cell_type": "code",
   "execution_count": 23,
   "id": "spoken-banking",
   "metadata": {},
   "outputs": [],
   "source": [
    "x=mict(name='first',type='coordinate', value=3)\n",
    "y=mict(name='second', type='coordinate', value=5)\n",
    "point=mict(type='outer <b>mict</b>',x=x,y=y)"
   ]
  },
  {
   "cell_type": "code",
   "execution_count": 24,
   "id": "incorrect-fitting",
   "metadata": {},
   "outputs": [
    {
     "data": {
      "text/html": [
       "<em>Type:</em> coordinate; <em>Name:</em> first; <br/><table><tr><th>key</th><th>value</th></tr><tr><td>value</td> <td> 3</td> </tr>  </table>"
      ],
      "text/plain": [
       "{'name': 'first', 'type': 'coordinate', 'value': 3}"
      ]
     },
     "execution_count": 24,
     "metadata": {},
     "output_type": "execute_result"
    }
   ],
   "source": [
    "x"
   ]
  },
  {
   "cell_type": "code",
   "execution_count": 25,
   "id": "incomplete-program",
   "metadata": {},
   "outputs": [
    {
     "data": {
      "text/html": [
       "<em>Type:</em> coordinate; <em>Name:</em> second; <br/><table><tr><th>key</th><th>value</th></tr><tr><td>value</td> <td> 5</td> </tr>  </table>"
      ],
      "text/plain": [
       "{'name': 'second', 'type': 'coordinate', 'value': 5}"
      ]
     },
     "execution_count": 25,
     "metadata": {},
     "output_type": "execute_result"
    }
   ],
   "source": [
    "y"
   ]
  },
  {
   "cell_type": "code",
   "execution_count": 26,
   "id": "turkish-facing",
   "metadata": {},
   "outputs": [
    {
     "data": {
      "text/html": [
       "<em>Type:</em> outer <b>mict</b>; <br/><table><tr><th>key</th><th>value</th></tr><tr><td>x</td><td><em>Type:</em> coordinate; <em>Name:</em> first; <br/><table><tr><th>key</th><th>value</th></tr><tr><td>value</td> <td> 3</td> </tr>  </table></td> </tr> <tr><td>y</td><td><em>Type:</em> coordinate; <em>Name:</em> second; <br/><table><tr><th>key</th><th>value</th></tr><tr><td>value</td> <td> 5</td> </tr>  </table></td> </tr>  </table>"
      ],
      "text/plain": [
       "{'type': 'outer <b>mict</b>', 'x': {'name': 'first', 'type': 'coordinate', 'value': 3}, 'y': {'name': 'second', 'type': 'coordinate', 'value': 5}}"
      ]
     },
     "execution_count": 26,
     "metadata": {},
     "output_type": "execute_result"
    }
   ],
   "source": [
    "point"
   ]
  },
  {
   "cell_type": "code",
   "execution_count": 27,
   "id": "extraordinary-transcript",
   "metadata": {},
   "outputs": [
    {
     "data": {
      "text/plain": [
       "'<em>Type:</em> outer <b>mict</b>; <br/><table><tr><th>key</th><th>value</th></tr><tr><td>x</td><td><em>Type:</em> coordinate; <em>Name:</em> first; <br/><table><tr><th>key</th><th>value</th></tr><tr><td>value</td> <td> 3</td> </tr>  </table></td> </tr> <tr><td>y</td><td><em>Type:</em> coordinate; <em>Name:</em> second; <br/><table><tr><th>key</th><th>value</th></tr><tr><td>value</td> <td> 5</td> </tr>  </table></td> </tr>  </table>'"
      ]
     },
     "execution_count": 27,
     "metadata": {},
     "output_type": "execute_result"
    }
   ],
   "source": [
    "v=point._repr_html_()\n",
    "v"
   ]
  },
  {
   "cell_type": "code",
   "execution_count": 28,
   "id": "stopped-employer",
   "metadata": {},
   "outputs": [],
   "source": [
    "point.reprstyler_html=None"
   ]
  },
  {
   "cell_type": "code",
   "execution_count": 29,
   "id": "linear-retreat",
   "metadata": {},
   "outputs": [
    {
     "data": {
      "text/html": [
       "{'type': 'outer <b>mict</b>', 'x': {'name': 'first', 'type': 'coordinate', 'value': 3}, 'y': {'name': 'second', 'type': 'coordinate', 'value': 5}, 'reprstyler_html': None}"
      ],
      "text/plain": [
       "{'type': 'outer <b>mict</b>', 'x': {'name': 'first', 'type': 'coordinate', 'value': 3}, 'y': {'name': 'second', 'type': 'coordinate', 'value': 5}, 'reprstyler_html': None}"
      ]
     },
     "execution_count": 29,
     "metadata": {},
     "output_type": "execute_result"
    }
   ],
   "source": [
    "point"
   ]
  },
  {
   "cell_type": "code",
   "execution_count": 30,
   "id": "inside-dream",
   "metadata": {},
   "outputs": [
    {
     "data": {
      "text/plain": [
       "True"
      ]
     },
     "execution_count": 30,
     "metadata": {},
     "output_type": "execute_result"
    }
   ],
   "source": [
    "isinstance(point,mict)"
   ]
  },
  {
   "cell_type": "markdown",
   "id": "fewer-provider",
   "metadata": {},
   "source": [
    "## More examples"
   ]
  },
  {
   "cell_type": "code",
   "execution_count": 31,
   "id": "current-biology",
   "metadata": {},
   "outputs": [
    {
     "data": {
      "text/html": [
       "<br/><table><tr><th>key</th><th>value</th></tr><tr><td>title</td> <td> some title</td> </tr> <tr><td>subtitle</td> <td> some subtitle</td> </tr> <tr><td>interesting_integer</td> <td> 3</td> </tr> <tr><td>interesting_float</td> <td> 6.28</td> </tr> <tr><td>big_array</td> <td> np.array(shape=(200, 250)) </td> </tr>  </table>"
      ],
      "text/plain": [
       "{'title': 'some title', 'subtitle': 'some subtitle', 'interesting_integer': 3, 'interesting_float': 6.283185307179586, 'big_array': array([[0.69667872, 0.76430837, 0.45038573, ..., 0.91267855, 0.51918943,\n",
       "        0.24134087],\n",
       "       [0.10000895, 0.15757038, 0.67863231, ..., 0.46486063, 0.35974974,\n",
       "        0.40939524],\n",
       "       [0.23076832, 0.85178687, 0.75375698, ..., 0.03234003, 0.39025463,\n",
       "        0.66618949],\n",
       "       ...,\n",
       "       [0.16841951, 0.28740849, 0.09274983, ..., 0.37536752, 0.26408601,\n",
       "        0.18756805],\n",
       "       [0.71447455, 0.83681638, 0.86271021, ..., 0.43262027, 0.35325497,\n",
       "        0.33739337],\n",
       "       [0.36388274, 0.36036995, 0.08793803, ..., 0.32524184, 0.02390576,\n",
       "        0.32872079]])}"
      ]
     },
     "execution_count": 31,
     "metadata": {},
     "output_type": "execute_result"
    }
   ],
   "source": [
    "from mict import mict\n",
    "import numpy\n",
    "import math\n",
    "q=mict(title=\"some title\",subtitle=\"some subtitle\",interesting_integer = 3,interesting_float = math.tau,  big_array=numpy.random.random((200,250)))\n",
    "q"
   ]
  },
  {
   "cell_type": "code",
   "execution_count": 32,
   "id": "incorporated-spanish",
   "metadata": {},
   "outputs": [
    {
     "data": {
      "text/html": [
       "<h1>some title</h1><h2>some subtitle</h2><p>interesting integer:0003</p><p>interesting float:6.283</p><p>some stats: this.big_array.std()=0.2877</p><hr/>"
      ],
      "text/plain": [
       "{'title': 'some title', 'subtitle': 'some subtitle', 'interesting_integer': 3, 'interesting_float': 6.283185307179586, 'big_array': array([[0.69667872, 0.76430837, 0.45038573, ..., 0.91267855, 0.51918943,\n",
       "        0.24134087],\n",
       "       [0.10000895, 0.15757038, 0.67863231, ..., 0.46486063, 0.35974974,\n",
       "        0.40939524],\n",
       "       [0.23076832, 0.85178687, 0.75375698, ..., 0.03234003, 0.39025463,\n",
       "        0.66618949],\n",
       "       ...,\n",
       "       [0.16841951, 0.28740849, 0.09274983, ..., 0.37536752, 0.26408601,\n",
       "        0.18756805],\n",
       "       [0.71447455, 0.83681638, 0.86271021, ..., 0.43262027, 0.35325497,\n",
       "        0.33739337],\n",
       "       [0.36388274, 0.36036995, 0.08793803, ..., 0.32524184, 0.02390576,\n",
       "        0.32872079]]), 'reprstyler_html': <function custom_html_styler at 0x7f5bc80515e0>}"
      ]
     },
     "execution_count": 32,
     "metadata": {},
     "output_type": "execute_result"
    }
   ],
   "source": [
    "def custom_html_styler(this):\n",
    "    output = f'<h1>{this.title}</h1>'\n",
    "    output = f'{output}<h2>{this.subtitle}</h2>'\n",
    "    output = f'{output}<p>interesting integer:{this.interesting_integer:04d}</p>'\n",
    "    output = f'{output}<p>interesting float:{this.interesting_float:0.{this.interesting_integer}f}</p>'\n",
    "    output = f'{output}<p>some stats: {this.big_array.std()=:0.4f}</p>'\n",
    "    output = f'{output}<hr/>'\n",
    "    return output\n",
    "\n",
    "q.reprstyler_html = custom_html_styler\n",
    "q"
   ]
  },
  {
   "cell_type": "code",
   "execution_count": 33,
   "id": "recognized-pittsburgh",
   "metadata": {},
   "outputs": [
    {
     "data": {
      "text/plain": [
       "0.2876787168780313"
      ]
     },
     "execution_count": 33,
     "metadata": {},
     "output_type": "execute_result"
    }
   ],
   "source": [
    "q.big_array.std()"
   ]
  },
  {
   "cell_type": "markdown",
   "id": "08588812",
   "metadata": {},
   "source": [
    "## Gotchas\n",
    "\n",
    "* `mict` does not throw an error when trying to access undefined field. Instead, it gives a warning and returns `None`\n"
   ]
  },
  {
   "cell_type": "code",
   "execution_count": 34,
   "id": "ab633c12",
   "metadata": {},
   "outputs": [
    {
     "name": "stderr",
     "output_type": "stream",
     "text": [
      "/tmp/ipykernel_2248446/567929045.py:1: UserWarning: no key \"no_value\" in this dictionary. \n",
      "valid keys are ['title', 'subtitle', 'interesting_integer', 'interesting_float', 'big_array', 'reprstyler_html']\n",
      "  type(q.no_value)\n",
      "/home/mib07150/.local/lib/python3.8/site-packages/IPython/core/interactiveshell.py:3441: UserWarning: in \n",
      "  exec(code_obj, self.user_global_ns, self.user_ns)\n",
      "/home/mib07150/.local/lib/python3.8/site-packages/IPython/core/interactiveshell.py:3361: UserWarning: in \n",
      "  if (await self.run_code(code, result,  async_=asy)):\n"
     ]
    },
    {
     "data": {
      "text/plain": [
       "NoneType"
      ]
     },
     "execution_count": 34,
     "metadata": {},
     "output_type": "execute_result"
    }
   ],
   "source": [
    "type(q.no_value)"
   ]
  },
  {
   "cell_type": "code",
   "execution_count": null,
   "id": "df2bc2dd",
   "metadata": {},
   "outputs": [],
   "source": []
  },
  {
   "cell_type": "markdown",
   "id": "tropical-phenomenon",
   "metadata": {},
   "source": [
    "\n",
    "\n",
    "\n",
    "## Attributions\n",
    "\n",
    "Happily copypasted from https://stackoverflow.com/questions/2352181/how-to-use-a-dot-to-access-members-of-dictionary , and modified only slightly.\n",
    "\n",
    "then, extended a bit.\n",
    "\n",
    "then, a bit more, with optional reprstyler. See the source code for `self.__repr__()`.\n",
    "\n",
    "then, extended again with advanced default reprstyler, `from_locals()`, `unpack_to_locals()`, `to_pickle()`, `from_pickle()` and `tpop()`. I am now using `mict` nearly daily and i feel it improves my results.\n",
    "\n",
    "\n",
    "## Related packages \n",
    "\n",
    "see also: \n",
    "\n",
    "https://pypi.org/project/python-box/\n",
    "\n",
    "https://github.com/drgrib/dotmap\n",
    "\n",
    "\n",
    "\n",
    "## License\n",
    "\n",
    "MIT License, Copyright (c) 2019-2021, George Rey, Paris. See LICENSE file.\n"
   ]
  },
  {
   "cell_type": "code",
   "execution_count": null,
   "id": "genetic-wireless",
   "metadata": {},
   "outputs": [],
   "source": []
  }
 ],
 "metadata": {
  "kernelspec": {
   "display_name": "Python 3 (ipykernel)",
   "language": "python",
   "name": "python3"
  },
  "language_info": {
   "codemirror_mode": {
    "name": "ipython",
    "version": 3
   },
   "file_extension": ".py",
   "mimetype": "text/x-python",
   "name": "python",
   "nbconvert_exporter": "python",
   "pygments_lexer": "ipython3",
   "version": "3.8.10"
  }
 },
 "nbformat": 4,
 "nbformat_minor": 5
}
